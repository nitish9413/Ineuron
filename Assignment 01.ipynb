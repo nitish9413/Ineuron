{
 "cells": [
  {
   "cell_type": "markdown",
   "id": "425628c3",
   "metadata": {},
   "source": [
    "## In the below elements which of them are values or an expression? eg:- values can be\n",
    "integer or string and expressions will be mathematical operators.\n",
    "*\n",
    "&#39;hello&#39;\n",
    "-87.8\n",
    "-\n",
    "/\n",
    "+\n",
    "6"
   ]
  },
  {
   "cell_type": "markdown",
   "id": "d3e5b4ff",
   "metadata": {},
   "source": [
    "*,-,/,+ is operator ,\n",
    "\"hello\" is string  ,\n",
    "-87.8 is value"
   ]
  },
  {
   "cell_type": "markdown",
   "id": "dce8c2eb",
   "metadata": {},
   "source": [
    "## What is the difference between string and variable?"
   ]
  },
  {
   "cell_type": "code",
   "execution_count": 2,
   "id": "04a1adf6",
   "metadata": {},
   "outputs": [
    {
     "data": {
      "text/plain": [
       "str"
      ]
     },
     "execution_count": 2,
     "metadata": {},
     "output_type": "execute_result"
    }
   ],
   "source": [
    "##String is value stored in varible\n",
    "\n",
    "a=\"String1\"\n",
    "## a is variable\n",
    "## of type string\n",
    "type(a)"
   ]
  },
  {
   "cell_type": "markdown",
   "id": "5d753b1f",
   "metadata": {},
   "source": [
    "## Describe three different data types."
   ]
  },
  {
   "cell_type": "code",
   "execution_count": 3,
   "id": "4f66f1c1",
   "metadata": {},
   "outputs": [],
   "source": [
    "#int stores integer\n",
    "#float stroes decimal point integer\n",
    "#String Stores characters"
   ]
  },
  {
   "cell_type": "markdown",
   "id": "61638305",
   "metadata": {},
   "source": [
    "## What is an expression made up of? What do all expressions do?"
   ]
  },
  {
   "cell_type": "code",
   "execution_count": 4,
   "id": "7f5ffea2",
   "metadata": {},
   "outputs": [],
   "source": [
    "# Expression is made up of operands and operators\n",
    "# expressions represents value"
   ]
  },
  {
   "cell_type": "markdown",
   "id": "566652bb",
   "metadata": {},
   "source": [
    "## This assignment statements, like spam = 10. What is the difference between an\n",
    "expression and a statement?"
   ]
  },
  {
   "cell_type": "code",
   "execution_count": 5,
   "id": "2bfb3deb",
   "metadata": {},
   "outputs": [],
   "source": [
    "## Statement does action\n",
    "## where expression yeilds a result value"
   ]
  },
  {
   "cell_type": "markdown",
   "id": "6e781970",
   "metadata": {},
   "source": [
    "## After running the following code, what does the variable bacon contain?\n",
    "bacon = 22\n",
    "bacon + 1"
   ]
  },
  {
   "cell_type": "code",
   "execution_count": 9,
   "id": "1db2b8f1",
   "metadata": {},
   "outputs": [
    {
     "name": "stdout",
     "output_type": "stream",
     "text": [
      "23\n",
      "22\n"
     ]
    }
   ],
   "source": [
    "# bacon will be equal to 22\n",
    "bacon =22\n",
    "print(bacon+1)\n",
    "print(bacon)"
   ]
  },
  {
   "cell_type": "markdown",
   "id": "84969d20",
   "metadata": {},
   "source": [
    "## What should the values of the following two terms be?\n",
    "&#39;spam&#39; + &#39;spamspam&#39;\n",
    "&#39;spam&#39; * 3"
   ]
  },
  {
   "cell_type": "code",
   "execution_count": 12,
   "id": "fe09b965",
   "metadata": {},
   "outputs": [
    {
     "data": {
      "text/plain": [
       "'spamspamspam'"
      ]
     },
     "execution_count": 12,
     "metadata": {},
     "output_type": "execute_result"
    }
   ],
   "source": [
    "# both have same value\n",
    "'spam' + 'spamspam'"
   ]
  },
  {
   "cell_type": "code",
   "execution_count": 11,
   "id": "689adc57",
   "metadata": {},
   "outputs": [
    {
     "data": {
      "text/plain": [
       "'spamspamspam'"
      ]
     },
     "execution_count": 11,
     "metadata": {},
     "output_type": "execute_result"
    }
   ],
   "source": [
    "'spam'*3"
   ]
  },
  {
   "cell_type": "markdown",
   "id": "9d88b2e7",
   "metadata": {},
   "source": [
    "## Why is eggs a valid variable name while 100 is invalid?"
   ]
  },
  {
   "cell_type": "code",
   "execution_count": 14,
   "id": "52c78ef8",
   "metadata": {},
   "outputs": [
    {
     "data": {
      "text/plain": [
       "4"
      ]
     },
     "execution_count": 14,
     "metadata": {},
     "output_type": "execute_result"
    }
   ],
   "source": [
    "# let's take example to understand better\n",
    "eggs=4\n",
    "eggs\n",
    "\n",
    "# we created a varible eggs and assigned a value 4"
   ]
  },
  {
   "cell_type": "code",
   "execution_count": 15,
   "id": "dbf5df1e",
   "metadata": {},
   "outputs": [
    {
     "ename": "SyntaxError",
     "evalue": "cannot assign to literal (<ipython-input-15-f12e53761eb9>, line 2)",
     "output_type": "error",
     "traceback": [
      "\u001b[1;36m  File \u001b[1;32m\"<ipython-input-15-f12e53761eb9>\"\u001b[1;36m, line \u001b[1;32m2\u001b[0m\n\u001b[1;33m    100=4\u001b[0m\n\u001b[1;37m    ^\u001b[0m\n\u001b[1;31mSyntaxError\u001b[0m\u001b[1;31m:\u001b[0m cannot assign to literal\n"
     ]
    }
   ],
   "source": [
    "# now create varible 100\n",
    "100=4"
   ]
  },
  {
   "cell_type": "code",
   "execution_count": 16,
   "id": "091dbd2a",
   "metadata": {},
   "outputs": [],
   "source": [
    "# when we try to do it will throw a error because\n",
    "# when we try 100=4\n",
    "# it will try to check 100=4\n",
    "# and there are rules to delcare varibles it should be alphabet , it does not contain speccial character , it can contain _ underscore"
   ]
  },
  {
   "cell_type": "markdown",
   "id": "96191d38",
   "metadata": {},
   "source": [
    "## What three functions can be used to get the integer, floating-point number, or string\n",
    " version of a value?"
   ]
  },
  {
   "cell_type": "code",
   "execution_count": 18,
   "id": "6cd6e6e6",
   "metadata": {},
   "outputs": [
    {
     "data": {
      "text/plain": [
       "''"
      ]
     },
     "execution_count": 18,
     "metadata": {},
     "output_type": "execute_result"
    }
   ],
   "source": [
    "int()\n",
    "float()\n",
    "str()"
   ]
  },
  {
   "cell_type": "markdown",
   "id": "0f72bcf2",
   "metadata": {},
   "source": [
    "## Why does this expression cause an error? How can you fix it?\n",
    "&#39;I have eaten &#39; + 99 + &#39; burritos.&#39;"
   ]
  },
  {
   "cell_type": "code",
   "execution_count": 19,
   "id": "4a5be409",
   "metadata": {},
   "outputs": [
    {
     "ename": "TypeError",
     "evalue": "can only concatenate str (not \"int\") to str",
     "output_type": "error",
     "traceback": [
      "\u001b[1;31m---------------------------------------------------------------------------\u001b[0m",
      "\u001b[1;31mTypeError\u001b[0m                                 Traceback (most recent call last)",
      "\u001b[1;32m<ipython-input-19-1769b094f82c>\u001b[0m in \u001b[0;36m<module>\u001b[1;34m\u001b[0m\n\u001b[0;32m      1\u001b[0m \u001b[1;31m# beacuse python cann't concate str and int\u001b[0m\u001b[1;33m\u001b[0m\u001b[1;33m\u001b[0m\u001b[1;33m\u001b[0m\u001b[0m\n\u001b[1;32m----> 2\u001b[1;33m \u001b[1;34m'I have eaten '\u001b[0m \u001b[1;33m+\u001b[0m \u001b[1;36m99\u001b[0m \u001b[1;33m+\u001b[0m \u001b[1;34m' burritos.'\u001b[0m\u001b[1;33m\u001b[0m\u001b[1;33m\u001b[0m\u001b[0m\n\u001b[0m",
      "\u001b[1;31mTypeError\u001b[0m: can only concatenate str (not \"int\") to str"
     ]
    }
   ],
   "source": [
    "# beacuse python cann't concate str and int\n",
    "'I have eaten ' + 99 + ' burritos.'"
   ]
  },
  {
   "cell_type": "code",
   "execution_count": 20,
   "id": "89b928c0",
   "metadata": {},
   "outputs": [
    {
     "data": {
      "text/plain": [
       "'I have eaten 99 burritos.'"
      ]
     },
     "execution_count": 20,
     "metadata": {},
     "output_type": "execute_result"
    }
   ],
   "source": [
    "'I have eaten ' + '99' + ' burritos.'"
   ]
  }
 ],
 "metadata": {
  "kernelspec": {
   "display_name": "Python 3",
   "language": "python",
   "name": "python3"
  },
  "language_info": {
   "codemirror_mode": {
    "name": "ipython",
    "version": 3
   },
   "file_extension": ".py",
   "mimetype": "text/x-python",
   "name": "python",
   "nbconvert_exporter": "python",
   "pygments_lexer": "ipython3",
   "version": "3.8.8"
  },
  "nbTranslate": {
   "displayLangs": [
    "*"
   ],
   "hotkey": "alt-t",
   "langInMainMenu": true,
   "sourceLang": "en",
   "targetLang": "fr",
   "useGoogleTranslate": true
  },
  "toc": {
   "base_numbering": 1,
   "nav_menu": {},
   "number_sections": true,
   "sideBar": true,
   "skip_h1_title": false,
   "title_cell": "Table of Contents",
   "title_sidebar": "Contents",
   "toc_cell": false,
   "toc_position": {},
   "toc_section_display": true,
   "toc_window_display": false
  },
  "varInspector": {
   "cols": {
    "lenName": 16,
    "lenType": 16,
    "lenVar": 40
   },
   "kernels_config": {
    "python": {
     "delete_cmd_postfix": "",
     "delete_cmd_prefix": "del ",
     "library": "var_list.py",
     "varRefreshCmd": "print(var_dic_list())"
    },
    "r": {
     "delete_cmd_postfix": ") ",
     "delete_cmd_prefix": "rm(",
     "library": "var_list.r",
     "varRefreshCmd": "cat(var_dic_list()) "
    }
   },
   "types_to_exclude": [
    "module",
    "function",
    "builtin_function_or_method",
    "instance",
    "_Feature"
   ],
   "window_display": false
  }
 },
 "nbformat": 4,
 "nbformat_minor": 5
}
