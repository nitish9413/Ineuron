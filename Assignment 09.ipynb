{
 "cells": [
  {
   "cell_type": "markdown",
   "id": "12a208ec-2c73-442a-9d23-acff848228ad",
   "metadata": {},
   "source": [
    "# 1. To what does a relative path refer?"
   ]
  },
  {
   "cell_type": "code",
   "execution_count": 2,
   "id": "cfca8aeb-a264-4bf9-b24e-9875e3438ff9",
   "metadata": {},
   "outputs": [],
   "source": [
    "# it refers to a location that is relative to a current directory"
   ]
  },
  {
   "cell_type": "markdown",
   "id": "5750ded1-bac1-475b-87cd-32ddd9424f6a",
   "metadata": {},
   "source": [
    "# 2. What does an absolute path start with your operating system?"
   ]
  },
  {
   "cell_type": "code",
   "execution_count": 4,
   "id": "636987f1-dfcc-4b61-b924-a825ae81af9c",
   "metadata": {},
   "outputs": [],
   "source": [
    "# starts with the home directory of your computer"
   ]
  },
  {
   "cell_type": "markdown",
   "id": "6acc7af9-34f9-42c2-ad86-b9c691b87a48",
   "metadata": {},
   "source": [
    "# 3. What do the functions os.getcwd() and os.chdir() do?"
   ]
  },
  {
   "cell_type": "code",
   "execution_count": 8,
   "id": "70f8b5f6-7710-46c2-a89d-838e1b44a2db",
   "metadata": {},
   "outputs": [],
   "source": [
    "# os.getcwd() it returns current working dir\n",
    "# os.chdir() it is used to change current working dir"
   ]
  },
  {
   "cell_type": "markdown",
   "id": "2f6a0a6b-a302-47b1-aa49-46aea9e50ce8",
   "metadata": {},
   "source": [
    "# 4. What are the . and .. folders?"
   ]
  },
  {
   "cell_type": "code",
   "execution_count": 11,
   "id": "721dfe46-e639-4efa-b435-392b28e95ffc",
   "metadata": {},
   "outputs": [],
   "source": [
    "# . :- The current Directory\n",
    "\n",
    "# .. :- Signifies the parent directory"
   ]
  },
  {
   "cell_type": "markdown",
   "id": "786833c4-6e95-4b30-998f-09451180ddd5",
   "metadata": {},
   "source": [
    "# 5. In C:\\bacon\\eggs\\spam.txt, which part is the dir name, and which part is the base name?"
   ]
  },
  {
   "cell_type": "code",
   "execution_count": 14,
   "id": "846364a1-6109-4e30-93bc-88937a99486d",
   "metadata": {},
   "outputs": [],
   "source": [
    "# dir name :- C:\\bacon\\eggs \n",
    "# base name :- spam.txt"
   ]
  },
  {
   "cell_type": "markdown",
   "id": "6c3224a0-4945-4ee9-b441-97a78e0e14c6",
   "metadata": {},
   "source": [
    "# 6. What are the three “mode” arguments that can be passed to the open() function?"
   ]
  },
  {
   "cell_type": "code",
   "execution_count": 16,
   "id": "1ef3499e-f724-461a-801c-1198047ff747",
   "metadata": {},
   "outputs": [],
   "source": [
    "# 'r':- For read mode\n",
    "# 'w':- For write mode\n",
    "# 'a':- For append mode"
   ]
  },
  {
   "cell_type": "markdown",
   "id": "8511f6ac-2b03-4614-8c5c-5306ee9498ff",
   "metadata": {},
   "source": [
    "# 7. What happens if an existing file is opened in write mode?"
   ]
  },
  {
   "cell_type": "code",
   "execution_count": 18,
   "id": "d33f7e03-1fe8-4bbf-9e3f-884d801ac860",
   "metadata": {},
   "outputs": [],
   "source": [
    "# Existing file opened in write mode is erased and completely overwritten"
   ]
  },
  {
   "cell_type": "markdown",
   "id": "b6bdf1c0-789c-444a-a141-e04de8831e7c",
   "metadata": {},
   "source": [
    "# 8. How do you tell the difference between read() and readlines()?"
   ]
  },
  {
   "cell_type": "code",
   "execution_count": 20,
   "id": "06b8a96b-181f-4e3f-bdfb-dede62266a02",
   "metadata": {},
   "outputs": [],
   "source": [
    "# read() returns file's entire content as single string\n",
    "# wheare as readlines() returns list of strings where each line is string from file"
   ]
  },
  {
   "cell_type": "markdown",
   "id": "6ab0c6e8-5d2f-4105-a517-47a9d431e251",
   "metadata": {},
   "source": [
    "# 9. What data structure does a shelf value resemble?"
   ]
  },
  {
   "cell_type": "code",
   "execution_count": 23,
   "id": "e91ea840-cc96-41cd-84ff-c3317aa06dc9",
   "metadata": {},
   "outputs": [],
   "source": [
    "# A shelf value resembles a dictionary value,it has keys and values,\n",
    "# along with keys() and values() methods that work similarly to the dictionary methods of the same"
   ]
  }
 ],
 "metadata": {
  "kernelspec": {
   "display_name": "Python 3 (ipykernel)",
   "language": "python",
   "name": "python3"
  },
  "language_info": {
   "codemirror_mode": {
    "name": "ipython",
    "version": 3
   },
   "file_extension": ".py",
   "mimetype": "text/x-python",
   "name": "python",
   "nbconvert_exporter": "python",
   "pygments_lexer": "ipython3",
   "version": "3.9.7"
  }
 },
 "nbformat": 4,
 "nbformat_minor": 5
}
