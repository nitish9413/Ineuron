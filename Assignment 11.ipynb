{
 "cells": [
  {
   "cell_type": "markdown",
   "id": "95bea3c4-7474-4abc-b69b-56f3b66437af",
   "metadata": {},
   "source": [
    "# 1. Create an assert statement that throws an AssertionError if the variable spam is a negative integer."
   ]
  },
  {
   "cell_type": "code",
   "execution_count": 8,
   "id": "17212a78-b208-4f36-95fa-fcf3a29c92c5",
   "metadata": {},
   "outputs": [],
   "source": [
    "assert spam>0"
   ]
  },
  {
   "cell_type": "markdown",
   "id": "6f9cb8bf-a659-4135-8689-c2313858e800",
   "metadata": {},
   "source": [
    "# 2. Write an assert statement that triggers an AssertionError if the variables eggs and bacon contain strings that are the same as each other, even if their cases are different (that is, &#39;hello&#39; and &#39;hello&#39; are considered the same, and &#39;goodbye&#39; and &#39;GOODbye&#39; are also considered the same)."
   ]
  },
  {
   "cell_type": "code",
   "execution_count": 10,
   "id": "1581542d-72d9-48f1-a6ad-316ad349a4bc",
   "metadata": {},
   "outputs": [],
   "source": [
    "# assert eggs.lower() != bacon.lower()\n",
    "#The eggs and bacon variables are the same"
   ]
  },
  {
   "cell_type": "markdown",
   "id": "021045bc-8ae4-4620-a193-99b2acf70f61",
   "metadata": {},
   "source": [
    "# 3. Create an assert statement that throws an AssertionError every time."
   ]
  },
  {
   "cell_type": "code",
   "execution_count": 13,
   "id": "d20e36fb-77fa-4e73-8bf7-4f4321121f8b",
   "metadata": {},
   "outputs": [],
   "source": [
    "# assert False"
   ]
  },
  {
   "cell_type": "markdown",
   "id": "d225a2cf-4952-46dd-bc9b-1111f88a7012",
   "metadata": {},
   "source": [
    "# 4. What are the two lines that must be present in your software in order to call logging.debug()?"
   ]
  },
  {
   "cell_type": "code",
   "execution_count": 15,
   "id": "2f745e2e-4766-4cdc-afa3-c4c5e25cfc70",
   "metadata": {},
   "outputs": [],
   "source": [
    "import logging\n",
    "logging.basicConfig(level=logging.DEBUG, \n",
    "format=' %(asctime)s -%(levelname)s - %(message)s')"
   ]
  },
  {
   "cell_type": "markdown",
   "id": "22034b0f-d593-4fa9-ad14-f019fbabc990",
   "metadata": {},
   "source": [
    "# 5. What are the two lines that your program must have in order to have logging.debug() send a logging message to a file named programLog.txt?"
   ]
  },
  {
   "cell_type": "code",
   "execution_count": 18,
   "id": "d243bd37-1d9a-4732-a499-cbcd8d7c0950",
   "metadata": {},
   "outputs": [],
   "source": [
    "import logging\n",
    "logging.basicConfig(filename='programLog.txt',level=logging.DEBUG, \n",
    "format=' %(asctime)s -%(levelname)s - %(message)s')"
   ]
  },
  {
   "cell_type": "markdown",
   "id": "b3b92531-b3a5-4509-a816-0836e6d6cfaf",
   "metadata": {},
   "source": [
    "# 6. What are the five levels of logging?"
   ]
  },
  {
   "cell_type": "code",
   "execution_count": 20,
   "id": "2c3ab56a-96df-4078-811a-a05a567f557b",
   "metadata": {},
   "outputs": [],
   "source": [
    "# i) debug\n",
    "# ii) info\n",
    "# iii) warning\n",
    "# iv) error\n",
    "# v) critical"
   ]
  },
  {
   "cell_type": "markdown",
   "id": "cc5c3c87-2060-4d3f-9fd0-6d8eda730aeb",
   "metadata": {},
   "source": [
    "# 7. What line of code would you add to your software to disable all logging messages?"
   ]
  },
  {
   "cell_type": "code",
   "execution_count": 23,
   "id": "4bc47154-0dc2-4e2b-83f4-e6fe1188b709",
   "metadata": {},
   "outputs": [],
   "source": [
    "# logging.disable(logging.critical)"
   ]
  },
  {
   "cell_type": "markdown",
   "id": "f9aa420f-4989-4797-b478-b23350d35c87",
   "metadata": {},
   "source": [
    "# 8.Why is using logging messages better than using print() to display the same message?"
   ]
  },
  {
   "cell_type": "code",
   "execution_count": 25,
   "id": "b7170bcb-39ad-4069-857f-136b96ae2112",
   "metadata": {},
   "outputs": [],
   "source": [
    "# The print() statement fails if your code does not have access to the console.\n",
    "# To define basic logging needs, several lines of code are needed.\n",
    "# Including additional logging information is not easy.\n",
    "# The print() statement only displays messages on the console. Recording logging data inside a file or sending it over the internet needs additional works."
   ]
  },
  {
   "cell_type": "markdown",
   "id": "a7016893-f90b-42e8-8213-45cd564aabf8",
   "metadata": {},
   "source": [
    "# 9. What are the differences between the Step Over, Step In, and Step Out buttons in the debugger?"
   ]
  },
  {
   "cell_type": "code",
   "execution_count": 27,
   "id": "ac58139a-7309-42c6-9ac1-f30bb01089b4",
   "metadata": {},
   "outputs": [],
   "source": [
    "#The Step in button will move the debugger into a function call. \n",
    "#The step Over button will quickly execute the function call without stepping into it. \n",
    "#The step Out button will quickly execute the rest of the code until it steps out of the function it currently is in."
   ]
  },
  {
   "cell_type": "markdown",
   "id": "10221eaa-dc6b-4e34-a208-8ff6ec559a5d",
   "metadata": {},
   "source": [
    "# 10.After you click Continue, when will the debugger stop ?"
   ]
  },
  {
   "cell_type": "code",
   "execution_count": 29,
   "id": "91e561b2-d0ef-4255-a314-063d1690030c",
   "metadata": {},
   "outputs": [],
   "source": [
    "# After you click Go, the debugger will stop when it has reached the end of the program or a line with a breakpoint."
   ]
  },
  {
   "cell_type": "markdown",
   "id": "963ce2ea-1c82-46b8-a48c-286ecb84518a",
   "metadata": {},
   "source": [
    "# 11. What is the concept of a breakpoint?"
   ]
  },
  {
   "cell_type": "code",
   "execution_count": 31,
   "id": "49a0387e-35be-4867-ac39-e799b851eacb",
   "metadata": {},
   "outputs": [],
   "source": [
    "#  A breakpoint is a setting on a line of code that causes the debugger to pause when the program execution reaches the line"
   ]
  }
 ],
 "metadata": {
  "kernelspec": {
   "display_name": "Python 3 (ipykernel)",
   "language": "python",
   "name": "python3"
  },
  "language_info": {
   "codemirror_mode": {
    "name": "ipython",
    "version": 3
   },
   "file_extension": ".py",
   "mimetype": "text/x-python",
   "name": "python",
   "nbconvert_exporter": "python",
   "pygments_lexer": "ipython3",
   "version": "3.9.7"
  }
 },
 "nbformat": 4,
 "nbformat_minor": 5
}
