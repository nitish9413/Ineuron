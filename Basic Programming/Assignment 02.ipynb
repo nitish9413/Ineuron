{
 "cells": [
  {
   "cell_type": "markdown",
   "metadata": {},
   "source": [
    "1. Write a Python program to convert kilometers to miles?\n",
    "2. Write a Python program to convert Celsius to Fahrenheit?\n",
    "3. Write a Python program to display calendar?\n",
    "4. Write a Python program to solve quadratic equation?\n",
    "5. Write a Python program to swap two variables without temp variable?"
   ]
  },
  {
   "cell_type": "code",
   "execution_count": 2,
   "metadata": {},
   "outputs": [
    {
     "name": "stdout",
     "output_type": "stream",
     "text": [
      "The distance in miles is:  7.4564520000000005\n"
     ]
    }
   ],
   "source": [
    "# 1\n",
    "def km_to_miles(km):\n",
    "    '''\n",
    "    Converts kilometers to miles\n",
    "    args: km (float)\n",
    "    '''\n",
    "    return km * 0.621371\n",
    "\n",
    "km=int(input(\"Enter the distance in kilometers: \"))\n",
    "km_to_miles(km)\n",
    "print(\"The distance in miles is: \", km_to_miles(km))"
   ]
  },
  {
   "cell_type": "code",
   "execution_count": 3,
   "metadata": {},
   "outputs": [
    {
     "name": "stdout",
     "output_type": "stream",
     "text": [
      "The temperature in fahrenheit is:  98.60000000000001\n"
     ]
    }
   ],
   "source": [
    "# 2\n",
    "def celsius_to_fahrenheit(celsius):\n",
    "    '''\n",
    "    Converts celsius to fahrenheit\n",
    "    args: celsius (float)\n",
    "    '''\n",
    "    return celsius * 1.8 + 32\n",
    "\n",
    "celsius=int(input(\"Enter the temperature in celsius: \"))\n",
    "celsius_to_fahrenheit(celsius)\n",
    "print(\"The temperature in fahrenheit is: \", celsius_to_fahrenheit(celsius))"
   ]
  },
  {
   "cell_type": "code",
   "execution_count": 4,
   "metadata": {},
   "outputs": [
    {
     "name": "stdout",
     "output_type": "stream",
     "text": [
      "    August 2022\n",
      "Mo Tu We Th Fr Sa Su\n",
      " 1  2  3  4  5  6  7\n",
      " 8  9 10 11 12 13 14\n",
      "15 16 17 18 19 20 21\n",
      "22 23 24 25 26 27 28\n",
      "29 30 31\n",
      "\n"
     ]
    }
   ],
   "source": [
    "# 3\n",
    "def show_calender():\n",
    "    '''\n",
    "    Displays the calendar of a given month and year\n",
    "    '''\n",
    "    import calendar\n",
    "    year = int(input(\"Enter the year: \"))\n",
    "    month = int(input(\"Enter the month: \"))\n",
    "    print(calendar.month(year, month))\n",
    "\n",
    "show_calender()"
   ]
  },
  {
   "cell_type": "code",
   "execution_count": 5,
   "metadata": {},
   "outputs": [
    {
     "name": "stdout",
     "output_type": "stream",
     "text": [
      "12x^2 + 6x + 2 = 0\n",
      "No real roots\n"
     ]
    }
   ],
   "source": [
    "# 4\n",
    "def quadratic_equation(a, b, c):\n",
    "    '''\n",
    "    Finds the roots of a quadratic equation\n",
    "    args: a, b, c (float)\n",
    "    '''\n",
    "    import math\n",
    "    d = b**2 - 4*a*c\n",
    "    if d > 0:\n",
    "        root1 = (-b + math.sqrt(d))/(2*a)\n",
    "        root2 = (-b - math.sqrt(d))/(2*a)\n",
    "        return root1, root2\n",
    "    elif d == 0:\n",
    "        root1 = -b/(2*a)\n",
    "        return root1\n",
    "    else:\n",
    "        return \"No real roots\"\n",
    "\n",
    "a = int(input(\"Enter the value of a: \"))\n",
    "b = int(input(\"Enter the value of b: \"))\n",
    "c = int(input(\"Enter the value of c: \"))\n",
    "print(f\"{a}x^2 + {b}x + {c} = 0\")\n",
    "print(quadratic_equation(a, b, c))"
   ]
  },
  {
   "cell_type": "code",
   "execution_count": 7,
   "metadata": {},
   "outputs": [
    {
     "name": "stdout",
     "output_type": "stream",
     "text": [
      "Before swapping: a = 12, b = 24\n",
      "After swapping: a = 24, b = 12\n"
     ]
    }
   ],
   "source": [
    "# 5\n",
    "a=input(\"Enter the value of a: \")\n",
    "b=input(\"Enter the value of b: \")\n",
    "\n",
    "print(f\"Before swapping: a = {a}, b = {b}\")\n",
    "a, b = b, a\n",
    "print(f\"After swapping: a = {a}, b = {b}\")\n"
   ]
  }
 ],
 "metadata": {
  "kernelspec": {
   "display_name": "Python 3.9.12 ('base')",
   "language": "python",
   "name": "python3"
  },
  "language_info": {
   "codemirror_mode": {
    "name": "ipython",
    "version": 3
   },
   "file_extension": ".py",
   "mimetype": "text/x-python",
   "name": "python",
   "nbconvert_exporter": "python",
   "pygments_lexer": "ipython3",
   "version": "3.9.12"
  },
  "orig_nbformat": 4,
  "vscode": {
   "interpreter": {
    "hash": "4286e3ea0d9112c60d73fc55620afe5b311cb05c19627ef18675d4a2276610da"
   }
  }
 },
 "nbformat": 4,
 "nbformat_minor": 2
}
