{
 "cells": [
  {
   "cell_type": "markdown",
   "metadata": {},
   "source": [
    "1. Write a Python Program to Find the Factorial of a Number?\n",
    "2. Write a Python Program to Display the multiplication Table?\n",
    "3. Write a Python Program to Print the Fibonacci sequence?\n",
    "4. Write a Python Program to Check Armstrong Number?\n",
    "5. Write a Python Program to Find Armstrong Number in an Interval?\n",
    "6. Write a Python Program to Find the Sum of Natural Numbers?"
   ]
  },
  {
   "cell_type": "code",
   "execution_count": 2,
   "metadata": {},
   "outputs": [
    {
     "name": "stdout",
     "output_type": "stream",
     "text": [
      "5\n",
      "120\n"
     ]
    }
   ],
   "source": [
    "# 1\n",
    "from tkinter import N\n",
    "\n",
    "\n",
    "def factorial(n):\n",
    "    '''\n",
    "    This function Returns the factorial of n\n",
    "    args: n integer\n",
    "    returns: n!\n",
    "    '''\n",
    "    if n == 0:\n",
    "        return 1\n",
    "    else:\n",
    "        return n * factorial(n-1)\n",
    "\n",
    "n=int(input(\"Enter a number: \"))\n",
    "print(n)\n",
    "print(factorial(n))\n"
   ]
  },
  {
   "cell_type": "code",
   "execution_count": 5,
   "metadata": {},
   "outputs": [
    {
     "name": "stdout",
     "output_type": "stream",
     "text": [
      "9\n",
      "9 x 1 = 9\n",
      "9 x 2 = 18\n",
      "9 x 3 = 27\n",
      "9 x 4 = 36\n",
      "9 x 5 = 45\n",
      "9 x 6 = 54\n",
      "9 x 7 = 63\n",
      "9 x 8 = 72\n",
      "9 x 9 = 81\n",
      "9 x 10 = 90\n"
     ]
    }
   ],
   "source": [
    "# 2\n",
    "def display_multiplication_table(n):\n",
    "    '''\n",
    "    This function prints the multiplication table of n\n",
    "    args: n integer\n",
    "    returns: None\n",
    "    '''\n",
    "    for i in range(1, 11):\n",
    "        print(n, 'x', i, '=', n*i)\n",
    "\n",
    "n=int(input(\"Enter a number: \"))\n",
    "print(n)\n",
    "display_multiplication_table(n)"
   ]
  },
  {
   "cell_type": "code",
   "execution_count": 9,
   "metadata": {},
   "outputs": [
    {
     "name": "stdout",
     "output_type": "stream",
     "text": [
      "9\n",
      "0\n",
      "1\n",
      "1\n",
      "2\n",
      "3\n",
      "5\n",
      "8\n",
      "13\n",
      "21\n"
     ]
    }
   ],
   "source": [
    "# 3\n",
    "def fibonacci_sequence(n, a=0, b=1):\n",
    "    '''\n",
    "    This function prints the fibonacci sequence of n\n",
    "    args: n integer\n",
    "    returns: None\n",
    "    '''\n",
    "    if n > 0:\n",
    "        print(a)\n",
    "        fibonacci_sequence(n-1, b, a+b)\n",
    "    \n",
    "\n",
    "n=int(input(\"Enter a number: \"))\n",
    "print(n)\n",
    "fibonacci_sequence(n)"
   ]
  },
  {
   "cell_type": "code",
   "execution_count": 13,
   "metadata": {},
   "outputs": [
    {
     "name": "stdout",
     "output_type": "stream",
     "text": [
      "153\n",
      "True\n"
     ]
    }
   ],
   "source": [
    "# 4\n",
    "def armstrong_number(n):\n",
    "    '''\n",
    "    This function checks if n is an armstrong number\n",
    "    args: n integer\n",
    "    returns: True or False\n",
    "    '''\n",
    "    sum = 0\n",
    "    temp = n\n",
    "    while temp > 0:\n",
    "        digit = temp % 10\n",
    "        sum += digit ** 3\n",
    "        temp //= 10\n",
    "    if n == sum:\n",
    "        return True\n",
    "    else:\n",
    "        return False\n",
    "\n",
    "n=int(input(\"Enter a number: \"))\n",
    "print(n)\n",
    "print(armstrong_number(n))"
   ]
  },
  {
   "cell_type": "code",
   "execution_count": 16,
   "metadata": {},
   "outputs": [
    {
     "name": "stdout",
     "output_type": "stream",
     "text": [
      "100\n",
      "Sum of first 100 natural numbers is 5050.0\n"
     ]
    }
   ],
   "source": [
    "# 5\n",
    "def sum_of_natual_numbers(n):\n",
    "    '''\n",
    "    This function returns the sum of first n natural numbers\n",
    "    args: n integer\n",
    "    returns: sum of first n natural numbers\n",
    "    '''\n",
    "    if n <= 1:\n",
    "        return n\n",
    "    else:\n",
    "        #return n + sum_of_natual_numbers(n-1)\n",
    "        return (n * (n + 1)) / 2\n",
    "\n",
    "n=int(input(\"Enter a number: \"))\n",
    "print(n)\n",
    "print(f\"Sum of first {n} natural numbers is {sum_of_natual_numbers(n)}\")\n"
   ]
  },
  {
   "cell_type": "code",
   "execution_count": null,
   "metadata": {},
   "outputs": [],
   "source": []
  }
 ],
 "metadata": {
  "kernelspec": {
   "display_name": "Python 3.9.12 ('base')",
   "language": "python",
   "name": "python3"
  },
  "language_info": {
   "codemirror_mode": {
    "name": "ipython",
    "version": 3
   },
   "file_extension": ".py",
   "mimetype": "text/x-python",
   "name": "python",
   "nbconvert_exporter": "python",
   "pygments_lexer": "ipython3",
   "version": "3.9.12"
  },
  "orig_nbformat": 4,
  "vscode": {
   "interpreter": {
    "hash": "4286e3ea0d9112c60d73fc55620afe5b311cb05c19627ef18675d4a2276610da"
   }
  }
 },
 "nbformat": 4,
 "nbformat_minor": 2
}
