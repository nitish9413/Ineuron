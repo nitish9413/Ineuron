{
 "cells": [
  {
   "cell_type": "markdown",
   "metadata": {},
   "source": [
    "1. Write a Python Program to Find LCM?\n",
    "2. Write a Python Program to Find HCF?\n",
    "3. Write a Python Program to Convert Decimal to Binary, Octal and Hexadecimal?\n",
    "4. Write a Python Program To Find ASCII value of a character?\n",
    "5. Write a Python Program to Make a Simple Calculator with 4 basic mathematical operations?"
   ]
  },
  {
   "cell_type": "code",
   "execution_count": 2,
   "metadata": {},
   "outputs": [
    {
     "name": "stdout",
     "output_type": "stream",
     "text": [
      "The L.C.M. of 153 and 231 is 11781\n"
     ]
    }
   ],
   "source": [
    "# 1\n",
    "def lcm(a, b):\n",
    "    if a > b:\n",
    "        greater = a\n",
    "    else:\n",
    "        greater = b\n",
    "    while(True):\n",
    "        if((greater % a == 0) and (greater % b == 0)):\n",
    "            lcm = greater\n",
    "            break\n",
    "        greater += 1\n",
    "    return lcm\n",
    "\n",
    "a=int(input(\"Enter the number of elements: \"))\n",
    "b=int(input(\"Enter the number of elements: \"))\n",
    "\n",
    "print(f\"The L.C.M. of {a} and {b} is {lcm(a, b)}\")"
   ]
  },
  {
   "cell_type": "code",
   "execution_count": 3,
   "metadata": {},
   "outputs": [
    {
     "name": "stdout",
     "output_type": "stream",
     "text": [
      "The H.C.F. of 12 and 6 is 6\n"
     ]
    }
   ],
   "source": [
    "# 2\n",
    "def hcf(a, b):\n",
    "    if a > b:\n",
    "        smaller = b\n",
    "    else:\n",
    "        smaller = a\n",
    "    for i in range(1, smaller+1):\n",
    "        if((a % i == 0) and (b % i == 0)):\n",
    "            hcf = i\n",
    "    return hcf\n",
    "\n",
    "a=int(input(\"Enter the number of elements: \"))\n",
    "b=int(input(\"Enter the number of elements: \"))\n",
    "print(f\"The H.C.F. of {a} and {b} is {hcf(a, b)}\")"
   ]
  },
  {
   "cell_type": "code",
   "execution_count": 4,
   "metadata": {},
   "outputs": [
    {
     "name": "stdout",
     "output_type": "stream",
     "text": [
      "The decimal value of 12 is:\n",
      "0b1100 in binary.\n",
      "0o14 in octal.\n",
      "0xc in hexadecimal.\n"
     ]
    }
   ],
   "source": [
    "# 3\n",
    "def convert_decimal_to_binary_octal_hexadecimal(num):\n",
    "    print(\"The decimal value of\", num, \"is:\")\n",
    "    print(bin(num), \"in binary.\")\n",
    "    print(oct(num), \"in octal.\")\n",
    "    print(hex(num), \"in hexadecimal.\")\n",
    "\n",
    "num = int(input(\"Enter a decimal number: \"))\n",
    "convert_decimal_to_binary_octal_hexadecimal(num)"
   ]
  },
  {
   "cell_type": "code",
   "execution_count": 6,
   "metadata": {},
   "outputs": [
    {
     "name": "stdout",
     "output_type": "stream",
     "text": [
      "The ASCII value of 'A' is 65\n"
     ]
    }
   ],
   "source": [
    "# 4\n",
    "# ascii value of a character\n",
    "c = input(\"Enter a character: \")\n",
    "print(\"The ASCII value of '\" + c + \"' is\", ord(c))"
   ]
  },
  {
   "cell_type": "code",
   "execution_count": 8,
   "metadata": {},
   "outputs": [
    {
     "name": "stdout",
     "output_type": "stream",
     "text": [
      "Enter 'x' for exit.\n",
      "15 + 16 = 31\n"
     ]
    }
   ],
   "source": [
    "# 5\n",
    "# simple calculator with 4 basic operations in single function\n",
    "def calculator():\n",
    "    print(\"Enter 'x' for exit.\")\n",
    "    operation = input(\"Enter operation you want to perform: \")\n",
    "    if operation == 'x':\n",
    "        exit()\n",
    "    else:\n",
    "        num1 = int(input(\"Enter first number: \"))\n",
    "        num2 = int(input(\"Enter second number: \"))\n",
    "        if operation == '+':\n",
    "            print(num1, \"+\", num2, \"=\", num1+num2)\n",
    "        elif operation == '-':\n",
    "            print(num1, \"-\", num2, \"=\", num1-num2)\n",
    "        elif operation == '*':\n",
    "            print(num1, \"*\", num2, \"=\", num1*num2)\n",
    "        elif operation == '/':\n",
    "            print(num1, \"/\", num2, \"=\", num1/num2)\n",
    "        else:\n",
    "            print(\"Invalid input\")\n",
    "\n",
    "calculator()"
   ]
  }
 ],
 "metadata": {
  "kernelspec": {
   "display_name": "Python 3.9.12 ('base')",
   "language": "python",
   "name": "python3"
  },
  "language_info": {
   "codemirror_mode": {
    "name": "ipython",
    "version": 3
   },
   "file_extension": ".py",
   "mimetype": "text/x-python",
   "name": "python",
   "nbconvert_exporter": "python",
   "pygments_lexer": "ipython3",
   "version": "3.9.12"
  },
  "orig_nbformat": 4,
  "vscode": {
   "interpreter": {
    "hash": "4286e3ea0d9112c60d73fc55620afe5b311cb05c19627ef18675d4a2276610da"
   }
  }
 },
 "nbformat": 4,
 "nbformat_minor": 2
}
