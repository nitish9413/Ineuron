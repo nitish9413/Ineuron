{
 "cells": [
  {
   "cell_type": "markdown",
   "id": "70c931c0",
   "metadata": {},
   "source": [
    "# Why are functions advantageous to have in your programs?"
   ]
  },
  {
   "cell_type": "code",
   "execution_count": 2,
   "id": "8b21d8d2",
   "metadata": {},
   "outputs": [],
   "source": [
    "# functions increases rediability of code\n",
    "# it makes programming less tedious\n",
    "# increses reusability of code"
   ]
  },
  {
   "cell_type": "markdown",
   "id": "7014a5d1",
   "metadata": {},
   "source": [
    "# When does the code in a function run: when it&#39;s specified or when it&#39;s called?"
   ]
  },
  {
   "cell_type": "code",
   "execution_count": 4,
   "id": "9d3e7e8c",
   "metadata": {},
   "outputs": [],
   "source": [
    "# answer = when we call function"
   ]
  },
  {
   "cell_type": "markdown",
   "id": "124d91d7",
   "metadata": {},
   "source": [
    "# What statement creates a function?"
   ]
  },
  {
   "cell_type": "code",
   "execution_count": 6,
   "id": "1d3c13da",
   "metadata": {},
   "outputs": [],
   "source": [
    "# def creates function"
   ]
  },
  {
   "cell_type": "markdown",
   "id": "c3b63c4e",
   "metadata": {},
   "source": [
    "# What is the difference between a function and a function call?"
   ]
  },
  {
   "cell_type": "code",
   "execution_count": 8,
   "id": "e4526e9b",
   "metadata": {},
   "outputs": [],
   "source": [
    "# function is sequence of statement / procedure\n",
    "# f. call is a excuting this procedure"
   ]
  },
  {
   "cell_type": "markdown",
   "id": "e67f163f",
   "metadata": {},
   "source": [
    "# How many global scopes are there in a Python program? How many local scopes?"
   ]
  },
  {
   "cell_type": "code",
   "execution_count": 2,
   "id": "54643ac8",
   "metadata": {},
   "outputs": [],
   "source": [
    "# only one global Python scope per program execution\n",
    "#"
   ]
  },
  {
   "cell_type": "markdown",
   "id": "44b83b32",
   "metadata": {},
   "source": [
    "# What happens to variables in a local scope when the function call returns?"
   ]
  },
  {
   "cell_type": "code",
   "execution_count": 5,
   "id": "24be4a67",
   "metadata": {},
   "outputs": [],
   "source": [
    "#When the execution of the function terminates (returns), the local variables are destroyed"
   ]
  },
  {
   "cell_type": "markdown",
   "id": "8b091f7e",
   "metadata": {},
   "source": [
    "# What is the concept of a return value? Is it possible to have a return value in an expression?"
   ]
  },
  {
   "cell_type": "code",
   "execution_count": 7,
   "id": "fc3709df",
   "metadata": {},
   "outputs": [],
   "source": [
    "# A return is a value that a function returns to the calling script or function when it completes its task.\n",
    "# Since return_42() returns a numeric value, you can use that value in a math expression or any other kind of expression in which the value has a logical or coherent meaning.\n"
   ]
  },
  {
   "cell_type": "markdown",
   "id": "a3cbe03e",
   "metadata": {},
   "source": [
    "# If a function does not have a return statement, what is the return value of a call to that function?"
   ]
  },
  {
   "cell_type": "code",
   "execution_count": 9,
   "id": "d33c93d7",
   "metadata": {},
   "outputs": [],
   "source": [
    "# it returns None"
   ]
  },
  {
   "cell_type": "markdown",
   "id": "247feec7",
   "metadata": {},
   "source": [
    "# How do you make a function variable refer to the global variable?"
   ]
  },
  {
   "cell_type": "code",
   "execution_count": 11,
   "id": "ff018f1d",
   "metadata": {},
   "outputs": [],
   "source": [
    "# by adding global keyword"
   ]
  },
  {
   "cell_type": "markdown",
   "id": "b4317d95",
   "metadata": {},
   "source": [
    "# What is the data type of None?"
   ]
  },
  {
   "cell_type": "code",
   "execution_count": 13,
   "id": "653d27af",
   "metadata": {},
   "outputs": [
    {
     "data": {
      "text/plain": [
       "NoneType"
      ]
     },
     "execution_count": 13,
     "metadata": {},
     "output_type": "execute_result"
    }
   ],
   "source": [
    "# null value\n",
    "type(None)"
   ]
  },
  {
   "cell_type": "markdown",
   "id": "c222a474",
   "metadata": {},
   "source": [
    "# What does the sentence import areallyourpetsnamederic do?"
   ]
  },
  {
   "cell_type": "code",
   "execution_count": 15,
   "id": "b2731d98",
   "metadata": {},
   "outputs": [],
   "source": [
    "# it imports this (areallyourpetsnamederic ) module"
   ]
  },
  {
   "cell_type": "markdown",
   "id": "6ad81822",
   "metadata": {},
   "source": [
    "# If you had a bacon() feature in a spam module, what would you call it after importing spam?"
   ]
  },
  {
   "cell_type": "code",
   "execution_count": 17,
   "id": "4116a82d",
   "metadata": {},
   "outputs": [],
   "source": [
    "# spam.bacon()"
   ]
  },
  {
   "cell_type": "markdown",
   "id": "2037ea93",
   "metadata": {},
   "source": [
    "# What can you do to save a programme from crashing if it encounters an error?"
   ]
  },
  {
   "cell_type": "code",
   "execution_count": 19,
   "id": "49ccdd3f",
   "metadata": {},
   "outputs": [],
   "source": [
    "# to avoid crashing we can use exeception handling "
   ]
  },
  {
   "cell_type": "markdown",
   "id": "b12713c2",
   "metadata": {},
   "source": [
    "# What is the purpose of the try clause? What is the purpose of the except clause?"
   ]
  },
  {
   "cell_type": "code",
   "execution_count": 21,
   "id": "a32e62dc",
   "metadata": {},
   "outputs": [],
   "source": [
    "# it is used to check error in code\n",
    "# to catch and handle exception "
   ]
  }
 ],
 "metadata": {
  "kernelspec": {
   "display_name": "Python 3",
   "language": "python",
   "name": "python3"
  },
  "language_info": {
   "codemirror_mode": {
    "name": "ipython",
    "version": 3
   },
   "file_extension": ".py",
   "mimetype": "text/x-python",
   "name": "python",
   "nbconvert_exporter": "python",
   "pygments_lexer": "ipython3",
   "version": "3.8.8"
  },
  "nbTranslate": {
   "displayLangs": [
    "*"
   ],
   "hotkey": "alt-t",
   "langInMainMenu": true,
   "sourceLang": "en",
   "targetLang": "fr",
   "useGoogleTranslate": true
  },
  "toc": {
   "base_numbering": 1,
   "nav_menu": {},
   "number_sections": true,
   "sideBar": true,
   "skip_h1_title": false,
   "title_cell": "Table of Contents",
   "title_sidebar": "Contents",
   "toc_cell": false,
   "toc_position": {},
   "toc_section_display": true,
   "toc_window_display": false
  },
  "varInspector": {
   "cols": {
    "lenName": 16,
    "lenType": 16,
    "lenVar": 40
   },
   "kernels_config": {
    "python": {
     "delete_cmd_postfix": "",
     "delete_cmd_prefix": "del ",
     "library": "var_list.py",
     "varRefreshCmd": "print(var_dic_list())"
    },
    "r": {
     "delete_cmd_postfix": ") ",
     "delete_cmd_prefix": "rm(",
     "library": "var_list.r",
     "varRefreshCmd": "cat(var_dic_list()) "
    }
   },
   "types_to_exclude": [
    "module",
    "function",
    "builtin_function_or_method",
    "instance",
    "_Feature"
   ],
   "window_display": false
  }
 },
 "nbformat": 4,
 "nbformat_minor": 5
}
