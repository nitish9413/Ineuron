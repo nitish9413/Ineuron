{
 "cells": [
  {
   "cell_type": "markdown",
   "id": "cd4f21aa-c591-46bb-b3d4-52bf9e702484",
   "metadata": {
    "tags": []
   },
   "source": [
    "## 1. Write a Python Program to find sum of array?"
   ]
  },
  {
   "cell_type": "code",
   "execution_count": 51,
   "id": "c5c6a2f6-4b5b-4ee9-a8ce-e5e2d8927c3a",
   "metadata": {},
   "outputs": [
    {
     "data": {
      "text/plain": [
       "[0, 1, 2, 3, 4, 5]"
      ]
     },
     "execution_count": 51,
     "metadata": {},
     "output_type": "execute_result"
    }
   ],
   "source": [
    "a=[x for x in range(0,6)]\n",
    "a"
   ]
  },
  {
   "cell_type": "code",
   "execution_count": 11,
   "id": "45efebeb-0224-4ca0-b386-997572d0fd47",
   "metadata": {},
   "outputs": [
    {
     "data": {
      "text/plain": [
       "15"
      ]
     },
     "execution_count": 11,
     "metadata": {},
     "output_type": "execute_result"
    }
   ],
   "source": [
    "s=0\n",
    "for i in a:\n",
    "    s=s+i\n",
    "s"
   ]
  },
  {
   "cell_type": "code",
   "execution_count": 8,
   "id": "18b36c8c-6978-4639-8377-5c14656150c2",
   "metadata": {},
   "outputs": [
    {
     "data": {
      "text/plain": [
       "15"
      ]
     },
     "execution_count": 8,
     "metadata": {},
     "output_type": "execute_result"
    }
   ],
   "source": [
    "sum(a)"
   ]
  },
  {
   "cell_type": "markdown",
   "id": "c593dc79-704d-44e5-8b9d-50f97ba8c088",
   "metadata": {
    "tags": []
   },
   "source": [
    "## 2.Write a Python Program to find largest element in an array?"
   ]
  },
  {
   "cell_type": "code",
   "execution_count": 29,
   "id": "ce3c8440-4ea0-419c-9d2e-7abc2618b48d",
   "metadata": {},
   "outputs": [
    {
     "data": {
      "text/plain": [
       "5"
      ]
     },
     "execution_count": 29,
     "metadata": {},
     "output_type": "execute_result"
    }
   ],
   "source": [
    "maxx=0\n",
    "for i in a:\n",
    "    if i>maxx:\n",
    "        maxx=i\n",
    "maxx"
   ]
  },
  {
   "cell_type": "code",
   "execution_count": 12,
   "id": "e9b55f9d-4c73-40e4-b1da-89712044543a",
   "metadata": {},
   "outputs": [
    {
     "data": {
      "text/plain": [
       "5"
      ]
     },
     "execution_count": 12,
     "metadata": {},
     "output_type": "execute_result"
    }
   ],
   "source": [
    "max(a)"
   ]
  },
  {
   "cell_type": "markdown",
   "id": "971c6337-2e09-49b9-9b46-a3c1e8033e86",
   "metadata": {},
   "source": [
    "## 3. Write a Python Program for array rotation?"
   ]
  },
  {
   "cell_type": "code",
   "execution_count": 23,
   "id": "0b334b16-a26a-4458-a627-c7a0f50d373d",
   "metadata": {},
   "outputs": [
    {
     "data": {
      "text/plain": [
       "[5, 4, 3, 2, 1, 0]"
      ]
     },
     "execution_count": 23,
     "metadata": {},
     "output_type": "execute_result"
    }
   ],
   "source": [
    "ra=[]\n",
    "for i in range(len(a)-1,-1,-1):\n",
    "    ra.append(a[i])\n",
    "ra"
   ]
  },
  {
   "cell_type": "code",
   "execution_count": 24,
   "id": "4368d90f-5c07-4b2d-ac88-a7f160455b8e",
   "metadata": {},
   "outputs": [
    {
     "data": {
      "text/plain": [
       "[5, 4, 3, 2, 1, 0]"
      ]
     },
     "execution_count": 24,
     "metadata": {},
     "output_type": "execute_result"
    }
   ],
   "source": [
    "a[::-1]"
   ]
  },
  {
   "cell_type": "markdown",
   "id": "df571dc0-7049-4705-8a59-2fa6b0b448e5",
   "metadata": {},
   "source": [
    "## 4. Write a Python Program to Split the array and add the first part to the end?"
   ]
  },
  {
   "cell_type": "code",
   "execution_count": 40,
   "id": "4e1c2ebd-794d-4fa1-8417-a0e42b1f860e",
   "metadata": {},
   "outputs": [
    {
     "data": {
      "text/plain": [
       "[3, 4, 5, 0, 1, 2]"
      ]
     },
     "execution_count": 40,
     "metadata": {},
     "output_type": "execute_result"
    }
   ],
   "source": [
    "a=a[3:]+a[:3]\n",
    "a"
   ]
  },
  {
   "cell_type": "markdown",
   "id": "fb265dca-0a08-4ffd-a908-c191a68ca3d3",
   "metadata": {},
   "source": [
    "## 5. Write a Python Program to check if given array is Monotonic?"
   ]
  },
  {
   "cell_type": "code",
   "execution_count": 61,
   "id": "dab03e1b-2b43-4da8-af6d-b97d0b21923e",
   "metadata": {},
   "outputs": [],
   "source": [
    "def monotonic(a):\n",
    "        return (all(a[i] <= a[i+1] for i in range(len(a) - 1)) or\n",
    "                all(a[i] >= a[i+1] for i in range(len(a) - 1)))"
   ]
  },
  {
   "cell_type": "code",
   "execution_count": 62,
   "id": "31224cd0-b7ff-48db-b29c-4b08d6bc0d86",
   "metadata": {},
   "outputs": [
    {
     "data": {
      "text/plain": [
       "True"
      ]
     },
     "execution_count": 62,
     "metadata": {},
     "output_type": "execute_result"
    }
   ],
   "source": [
    "monotonic(a)"
   ]
  },
  {
   "cell_type": "code",
   "execution_count": 63,
   "id": "440238f8-2a25-46af-b9c0-54ce8a5e8dd2",
   "metadata": {},
   "outputs": [
    {
     "data": {
      "text/plain": [
       "False"
      ]
     },
     "execution_count": 63,
     "metadata": {},
     "output_type": "execute_result"
    }
   ],
   "source": [
    "b=[1,6,2,5,4]\n",
    "monotonic(b)"
   ]
  },
  {
   "cell_type": "code",
   "execution_count": 64,
   "id": "f296e098-a7c1-4149-9032-e07c1a9426e6",
   "metadata": {},
   "outputs": [
    {
     "data": {
      "text/plain": [
       "True"
      ]
     },
     "execution_count": 64,
     "metadata": {},
     "output_type": "execute_result"
    }
   ],
   "source": [
    "monotonic([1, 2, 3, 4, 7, 10])"
   ]
  }
 ],
 "metadata": {
  "kernelspec": {
   "display_name": "Python 3 (ipykernel)",
   "language": "python",
   "name": "python3"
  },
  "language_info": {
   "codemirror_mode": {
    "name": "ipython",
    "version": 3
   },
   "file_extension": ".py",
   "mimetype": "text/x-python",
   "name": "python",
   "nbconvert_exporter": "python",
   "pygments_lexer": "ipython3",
   "version": "3.9.7"
  }
 },
 "nbformat": 4,
 "nbformat_minor": 5
}
