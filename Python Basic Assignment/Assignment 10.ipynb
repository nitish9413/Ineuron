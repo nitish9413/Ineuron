{
 "cells": [
  {
   "cell_type": "markdown",
   "id": "9ae12f9d-42f1-4704-b2c3-77eee9f3b1d6",
   "metadata": {},
   "source": [
    "# 1. How do you distinguish between shutil.copy() and shutil.copytree()?"
   ]
  },
  {
   "cell_type": "code",
   "execution_count": 5,
   "id": "5b0e107c-69a5-4d01-9f26-b5e7da20c498",
   "metadata": {},
   "outputs": [],
   "source": [
    "# shutil. copy() will copy a single file\n",
    "# shutil. copytree() will copy an entire folder and every folder and file contained in it"
   ]
  },
  {
   "cell_type": "markdown",
   "id": "2c773688-4202-410c-a457-0da9e13e3af7",
   "metadata": {},
   "source": [
    "# 2. What function is used to rename files??"
   ]
  },
  {
   "cell_type": "code",
   "execution_count": 6,
   "id": "37898a19-54a1-4f5e-9f69-7c93a847061e",
   "metadata": {},
   "outputs": [],
   "source": [
    "# The shutil.move() function is used for renaming files, as well as moving them"
   ]
  },
  {
   "cell_type": "markdown",
   "id": "72a0c9b9-c2d3-4fcf-899e-bb96b6f17184",
   "metadata": {},
   "source": [
    "# 3. What is the difference between the delete functions in the send2trash and shutil modules?"
   ]
  },
  {
   "cell_type": "code",
   "execution_count": 8,
   "id": "ae42e971-da48-4369-b0c6-347456f82d11",
   "metadata": {},
   "outputs": [],
   "source": [
    "# The send2trash functions will move a file or folder to the recycle bin\n",
    "# shutil functions will permanently delete files and folders"
   ]
  },
  {
   "cell_type": "markdown",
   "id": "7bb709ba-5e13-437b-8ada-36e346528406",
   "metadata": {},
   "source": [
    "# 4.ZipFile objects have a close() method just like File objects’ close() method. What ZipFile method is equivalent to File objects’ open() method?"
   ]
  },
  {
   "cell_type": "code",
   "execution_count": 11,
   "id": "b1f7db83-2ab6-401c-aa1d-0a10d99ffbc0",
   "metadata": {},
   "outputs": [],
   "source": [
    "# The zipfile.ZipFile() function is equivalent to the open() function\n",
    "# The first argument is the filename, and the second argument is the mode to open the ZIP file in (read, write, or append)"
   ]
  },
  {
   "cell_type": "markdown",
   "id": "ec047f47-8543-446c-80eb-f3e85509d209",
   "metadata": {},
   "source": [
    "# 5. Create a programme that searches a folder tree for files with a certain file extension (such as .pdf or .jpg). Copy these files from whatever location they are in to a new folder."
   ]
  },
  {
   "cell_type": "code",
   "execution_count": 13,
   "id": "7a7c1cc9-df53-44e1-893a-3f244fb5c7cb",
   "metadata": {},
   "outputs": [],
   "source": [
    "def moveFilepdf(folder):\n",
    "    for folderName, subfolders, filenames in os.walk(folder):\n",
    "        for filename in filenames:\n",
    "            if filename.endswith('.pdf'):\n",
    "                shutil.copy(os.path.join(folderName, filename), '<destination>')"
   ]
  }
 ],
 "metadata": {
  "kernelspec": {
   "display_name": "Python 3 (ipykernel)",
   "language": "python",
   "name": "python3"
  },
  "language_info": {
   "codemirror_mode": {
    "name": "ipython",
    "version": 3
   },
   "file_extension": ".py",
   "mimetype": "text/x-python",
   "name": "python",
   "nbconvert_exporter": "python",
   "pygments_lexer": "ipython3",
   "version": "3.9.7"
  }
 },
 "nbformat": 4,
 "nbformat_minor": 5
}
