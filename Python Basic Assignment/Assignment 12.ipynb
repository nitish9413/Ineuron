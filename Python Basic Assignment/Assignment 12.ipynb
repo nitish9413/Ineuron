{
 "cells": [
  {
   "cell_type": "code",
   "execution_count": null,
   "id": "aeed25ae-682b-4e78-8dd4-55edbddab89e",
   "metadata": {},
   "outputs": [],
   "source": []
  },
  {
   "cell_type": "markdown",
   "id": "be86ef8f-16bf-4eee-93cc-e956c4a1da01",
   "metadata": {},
   "source": [
    "# 1. In what modes should the PdfFileReader() and PdfFileWriter() File objects will be opened?"
   ]
  },
  {
   "cell_type": "code",
   "execution_count": 2,
   "id": "1d202ced-27c6-4350-a9c2-9654f1cd8949",
   "metadata": {},
   "outputs": [],
   "source": [
    "# PdfFileReader() :- Read-binary ('rb')\n",
    "# PdfFileWrite() :- write-binary ('wb')"
   ]
  },
  {
   "cell_type": "markdown",
   "id": "9c9f7f7e-b173-4413-8e6e-991d0ff5211b",
   "metadata": {},
   "source": [
    "# 2. From a PdfFileReader object, how do you get a Page object for page 5?"
   ]
  },
  {
   "cell_type": "code",
   "execution_count": 4,
   "id": "c55cdf28-8175-4d72-8186-135c8374316e",
   "metadata": {},
   "outputs": [],
   "source": [
    "#Calling getPage(4) will return a page object for page 5 since 0 page is the first page"
   ]
  },
  {
   "cell_type": "markdown",
   "id": "1b175f79-f525-4b9e-94c3-9e217add62e6",
   "metadata": {},
   "source": [
    "# 3. What PdfFileReader variable stores the number of pages in the PDF document?"
   ]
  },
  {
   "cell_type": "code",
   "execution_count": 3,
   "id": "20946c79-6d3b-41bf-a446-7841b1f8f754",
   "metadata": {},
   "outputs": [],
   "source": [
    "# The numPages variable stores an integer of the number of pages in the PdfFileReader object"
   ]
  },
  {
   "cell_type": "markdown",
   "id": "aa8d5760-8c2f-49ea-a73c-6963110773d8",
   "metadata": {},
   "source": [
    "# 4. If a PdfFileReader object’s PDF is encrypted with the password swordfish, what must you dobefore you can obtain Page objects from it?"
   ]
  },
  {
   "cell_type": "code",
   "execution_count": 10,
   "id": "09c19343-2836-4304-9b0f-02292cfe764c",
   "metadata": {
    "tags": []
   },
   "outputs": [],
   "source": [
    "# To obtain we must \n",
    "# call decrypt('swordfish')"
   ]
  },
  {
   "cell_type": "markdown",
   "id": "6346a76a-6a98-4dda-a973-ba8ebd11a444",
   "metadata": {},
   "source": [
    "# 5. What methods do you use to rotate a page?"
   ]
  },
  {
   "cell_type": "code",
   "execution_count": 12,
   "id": "9652dc71-dbd6-4af6-9b8d-ddca14ae051e",
   "metadata": {},
   "outputs": [],
   "source": [
    "# We get page object by getPage() method of pdf reader class ,\n",
    "# Now we rotate the page by rotateClockwise() method of page object class"
   ]
  },
  {
   "cell_type": "markdown",
   "id": "0ccbfaad-d9ed-4e42-a8fb-8e9844f39b72",
   "metadata": {},
   "source": [
    "# 6. What is the difference between a Run object and a Paragraph object?"
   ]
  },
  {
   "cell_type": "code",
   "execution_count": 16,
   "id": "2fcd827f-e870-4e0b-9566-89a8f121ab49",
   "metadata": {},
   "outputs": [],
   "source": [
    "# A document contains multiple paragrahs.\n",
    "# A paragraph begins on a new line and contains multiple runs\n",
    "# Runs are contiguous groups of characters within the paragrah"
   ]
  },
  {
   "cell_type": "markdown",
   "id": "ed081230-e435-46fd-bbaf-d3a18335313a",
   "metadata": {},
   "source": [
    "# 7. How do you obtain a list of Paragraph objects for a Document object that’s stored in a variable named doc?"
   ]
  },
  {
   "cell_type": "code",
   "execution_count": 19,
   "id": "47c0186d-6bdc-49e9-bddf-c07efc03f376",
   "metadata": {},
   "outputs": [],
   "source": [
    "# doc.paragraphs()"
   ]
  },
  {
   "cell_type": "markdown",
   "id": "1ebfed2c-adaf-421c-a634-e1eed4d69731",
   "metadata": {},
   "source": [
    "# 8. What type of object has bold, underline, italic, strike, and outline variables?"
   ]
  },
  {
   "cell_type": "code",
   "execution_count": 21,
   "id": "f657dc09-94b9-43c9-97b9-b5b14eac7570",
   "metadata": {},
   "outputs": [],
   "source": [
    "# A Run object has these variables"
   ]
  },
  {
   "cell_type": "markdown",
   "id": "8a2db673-e5da-48a2-901e-e26e39607887",
   "metadata": {},
   "source": [
    "# 9. What is the difference between False, True, and None for the bold variable?"
   ]
  },
  {
   "cell_type": "code",
   "execution_count": 25,
   "id": "7b209b21-8464-481f-b7a8-13453e0caffd",
   "metadata": {},
   "outputs": [],
   "source": [
    "# True always makes the Run object bolded and\n",
    "# False makes it always not bolded, no matter what the style's bold setting is. \n",
    "# None will make the Run object just use the style's bold setting."
   ]
  },
  {
   "cell_type": "markdown",
   "id": "4f99b300-17c5-45d6-bdb8-07f4af88fdd6",
   "metadata": {},
   "source": [
    "# 10. How do you create a Document object for a new Word document?"
   ]
  },
  {
   "cell_type": "code",
   "execution_count": 27,
   "id": "7f6750fc-932a-4a05-9a39-8974ecacd80c",
   "metadata": {},
   "outputs": [],
   "source": [
    "# call docs.Document()"
   ]
  },
  {
   "cell_type": "markdown",
   "id": "6cea290d-eba2-44ea-8f81-fd5b37b38351",
   "metadata": {},
   "source": [
    "# 11. How do you add a paragraph with the text &#39;Hello, there!&#39; to a Document object stored in a variable named doc?"
   ]
  },
  {
   "cell_type": "code",
   "execution_count": 30,
   "id": "d806516a-fed1-4c2d-bd05-a112d2a561ba",
   "metadata": {},
   "outputs": [],
   "source": [
    "# doc.add_paragraph('Hello there!')"
   ]
  },
  {
   "cell_type": "markdown",
   "id": "d3418147-3d63-492c-8724-239bb2781d21",
   "metadata": {},
   "source": [
    "# 12. What integers represent the levels of headings available in Word documents?"
   ]
  },
  {
   "cell_type": "code",
   "execution_count": 32,
   "id": "546abd75-9bdc-4cd6-b95a-f33a75240d23",
   "metadata": {},
   "outputs": [],
   "source": [
    "# The integers 0,1,2,3, and 4"
   ]
  }
 ],
 "metadata": {
  "kernelspec": {
   "display_name": "Python 3 (ipykernel)",
   "language": "python",
   "name": "python3"
  },
  "language_info": {
   "codemirror_mode": {
    "name": "ipython",
    "version": 3
   },
   "file_extension": ".py",
   "mimetype": "text/x-python",
   "name": "python",
   "nbconvert_exporter": "python",
   "pygments_lexer": "ipython3",
   "version": "3.9.7"
  }
 },
 "nbformat": 4,
 "nbformat_minor": 5
}
