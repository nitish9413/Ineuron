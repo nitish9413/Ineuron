{
 "cells": [
  {
   "cell_type": "markdown",
   "id": "103a312b-8861-4280-849b-a2456743280e",
   "metadata": {},
   "source": [
    "# 1. What advantages do Excel spreadsheets have over CSV spreadsheets?"
   ]
  },
  {
   "cell_type": "code",
   "execution_count": 2,
   "id": "8d4e369e-2082-4fb8-99bc-cb76a453a9fa",
   "metadata": {},
   "outputs": [],
   "source": [
    "# In Excel, spreadsheets can have values of data types other than strings; \n",
    "# cells can have different fonts, sizes, or color settings; \n",
    "# cells can have varying widths and heights; \n",
    "# adjacent cells can be merged; \n",
    "# and you can embed images and charts"
   ]
  },
  {
   "cell_type": "markdown",
   "id": "ed079222-550c-4523-926a-3f70aa063f7e",
   "metadata": {},
   "source": [
    "# 2.What do you pass to csv.reader() and csv.writer() to create reader and writer objects?"
   ]
  },
  {
   "cell_type": "code",
   "execution_count": 4,
   "id": "ba52269f-1a43-4c65-adca-2e4e895c0810",
   "metadata": {},
   "outputs": [],
   "source": [
    "# pass a File object, obtained from a call to open()."
   ]
  },
  {
   "cell_type": "markdown",
   "id": "f0a9fb22-7e3f-43b4-80ef-609db17063cc",
   "metadata": {},
   "source": [
    "# 3. What modes do File objects for reader and writer objects need to be opened in?"
   ]
  },
  {
   "cell_type": "code",
   "execution_count": null,
   "id": "17df9396-6d99-4988-95b9-5ccf51747aad",
   "metadata": {},
   "outputs": [],
   "source": [
    "# read-binary ('rb') for Reader objects and \n",
    "# write-binary ('wb') for Writer objects."
   ]
  },
  {
   "cell_type": "markdown",
   "id": "09be9979-c5e6-491f-a4d7-453449bea24b",
   "metadata": {},
   "source": [
    "# 4. What method takes a list argument and writes it to a CSV file?"
   ]
  },
  {
   "cell_type": "code",
   "execution_count": 7,
   "id": "dd77f19a-348b-4f22-bfc5-fd41f3a88451",
   "metadata": {},
   "outputs": [],
   "source": [
    "# writerow()"
   ]
  },
  {
   "cell_type": "markdown",
   "id": "360bd08c-ad01-44dd-bf73-7ae728a25ea6",
   "metadata": {},
   "source": [
    "# 5. What do the keyword arguments delimiter and line terminator do?"
   ]
  },
  {
   "cell_type": "code",
   "execution_count": 9,
   "id": "faaab711-6b5a-4461-8653-a842debf0c3b",
   "metadata": {},
   "outputs": [],
   "source": [
    "# The delimiter argument changes the string used to separate cells in a row. \n",
    "# The lineterminator argument changes the string used to separate rows."
   ]
  },
  {
   "cell_type": "markdown",
   "id": "80e639e8-0ad8-4b45-a9fb-e5d8ffad26ae",
   "metadata": {},
   "source": [
    "# 6. What function takes a string of JSON data and returns a Python data structure?"
   ]
  },
  {
   "cell_type": "code",
   "execution_count": 11,
   "id": "009a2670-51ae-4f81-92fc-a1e4ae33fb8b",
   "metadata": {},
   "outputs": [],
   "source": [
    "# json.loads()"
   ]
  },
  {
   "cell_type": "markdown",
   "id": "cb4d743d-4d91-4adf-9623-69bcb5c63b38",
   "metadata": {},
   "source": [
    "# 7. What function takes a Python data structure and returns a string of JSON data?"
   ]
  },
  {
   "cell_type": "code",
   "execution_count": 13,
   "id": "2df19963-bff4-46ee-a84a-2f6486d2a1d3",
   "metadata": {},
   "outputs": [],
   "source": [
    "# json.dumps()"
   ]
  }
 ],
 "metadata": {
  "kernelspec": {
   "display_name": "Python 3 (ipykernel)",
   "language": "python",
   "name": "python3"
  },
  "language_info": {
   "codemirror_mode": {
    "name": "ipython",
    "version": 3
   },
   "file_extension": ".py",
   "mimetype": "text/x-python",
   "name": "python",
   "nbconvert_exporter": "python",
   "pygments_lexer": "ipython3",
   "version": "3.9.7"
  }
 },
 "nbformat": 4,
 "nbformat_minor": 5
}
