{
 "cells": [
  {
   "cell_type": "markdown",
   "id": "2e7c5af3-5068-4b23-8d3d-9487c6427904",
   "metadata": {},
   "source": [
    "# 1. What does RGBA stand for?"
   ]
  },
  {
   "cell_type": "code",
   "execution_count": null,
   "id": "efbda0d4-698b-4e33-85d5-2bec37746b4d",
   "metadata": {},
   "outputs": [],
   "source": [
    "# RGBA stands for Red Green Blue and Alpha"
   ]
  },
  {
   "cell_type": "markdown",
   "id": "a4b65487-0333-4f4b-9d4d-723423e6c77a",
   "metadata": {},
   "source": [
    "# 2. From the Pillow module, how do you get the RGBA value of any images?"
   ]
  },
  {
   "cell_type": "code",
   "execution_count": 3,
   "id": "35e8c863-8aed-47e9-be70-320243be2c53",
   "metadata": {},
   "outputs": [],
   "source": [
    "# USE PIL.Image.Image.getpixel()\n",
    "# Returns RGB value of a pixel"
   ]
  },
  {
   "cell_type": "markdown",
   "id": "1563c3e3-6608-4c9d-9457-01df13f9547f",
   "metadata": {},
   "source": [
    "# 3. What is a box tuple, and how does it work?"
   ]
  },
  {
   "cell_type": "code",
   "execution_count": 5,
   "id": "e2374cee-944b-419b-ad86-a2bc4b443852",
   "metadata": {},
   "outputs": [],
   "source": [
    "# A box tuple is a tuple value of four integers: the left edge x-coordinate, \n",
    "# the top edge y-coordinate, the width, and the height, respectively"
   ]
  },
  {
   "cell_type": "markdown",
   "id": "4db367a0-4edf-47d1-8227-5d8041823bbf",
   "metadata": {},
   "source": [
    "# 4. Use your image and load in notebook then, How can you find out the width and height of an Image object?"
   ]
  },
  {
   "cell_type": "code",
   "execution_count": 8,
   "id": "15e71d1c-2102-47e6-9180-5b74ea16fee5",
   "metadata": {},
   "outputs": [],
   "source": [
    "from PIL import Image"
   ]
  },
  {
   "cell_type": "code",
   "execution_count": 18,
   "id": "87e0e65a-02f3-4657-aff1-d17ade58e609",
   "metadata": {},
   "outputs": [],
   "source": [
    "my=Image.open(r\"C:\\Users\\nitis\\OneDrive\\Desktop\\download.jfif\")"
   ]
  },
  {
   "cell_type": "code",
   "execution_count": 19,
   "id": "b226c38d-af2e-4125-80ae-bc6bc16e10a2",
   "metadata": {},
   "outputs": [],
   "source": [
    "width,height=my.size"
   ]
  },
  {
   "cell_type": "code",
   "execution_count": 20,
   "id": "23a051c2-3656-4b76-8f32-ac841d66a746",
   "metadata": {},
   "outputs": [
    {
     "name": "stdout",
     "output_type": "stream",
     "text": [
      "189 267\n"
     ]
    }
   ],
   "source": [
    "print(width,height)"
   ]
  },
  {
   "cell_type": "markdown",
   "id": "d3834561-5157-423f-a22d-46cce7c29bbf",
   "metadata": {},
   "source": [
    "# 5. What method would you call to get Image object for a 100×100 image, excluding the lower-left quarter of it?"
   ]
  },
  {
   "cell_type": "code",
   "execution_count": 29,
   "id": "d89f3164-ec4a-47ca-abcb-a2d8880e1735",
   "metadata": {},
   "outputs": [
    {
     "data": {
      "image/png": "[encoded data removed]",
      "text/plain": [
       "<PIL.Image.Image image mode=RGB size=100x100 at 0x2A4FCEE85E0>"
      ]
     },
     "execution_count": 29,
     "metadata": {},
     "output_type": "execute_result"
    }
   ],
   "source": [
    "my.resize((100,100))"
   ]
  },
  {
   "cell_type": "markdown",
   "id": "132f4b44-7942-4e07-b232-21eca4f9fbb9",
   "metadata": {},
   "source": [
    "# 6. After making changes to an Image object, how could you save it as an image file?"
   ]
  },
  {
   "cell_type": "code",
   "execution_count": 30,
   "id": "9afd2bde-5b13-4f94-94a1-168948746bfb",
   "metadata": {},
   "outputs": [],
   "source": [
    "my.save('new_file_name.png')"
   ]
  },
  {
   "cell_type": "markdown",
   "id": "a51ce7ed-70cd-44be-8431-295ccc72ee8f",
   "metadata": {},
   "source": [
    "# 7. What module contains Pillow’s shape-drawing code?"
   ]
  },
  {
   "cell_type": "code",
   "execution_count": 32,
   "id": "7d41accb-5af6-4aab-8537-9bf350763a78",
   "metadata": {},
   "outputs": [],
   "source": [
    "# The ImageDraw module contains code to draw on image"
   ]
  },
  {
   "cell_type": "markdown",
   "id": "215e1f2d-e92f-4ea1-ad79-bb3a06a803bf",
   "metadata": {},
   "source": [
    "# 8. Image objects do not have drawing methods. What kind of object does? How do you get this kind of object?"
   ]
  },
  {
   "cell_type": "code",
   "execution_count": 35,
   "id": "448bd05a-8083-450f-82f1-31f6995fc627",
   "metadata": {},
   "outputs": [],
   "source": [
    "# ImageDraw objects have shape-drawing methods such as point(), line(), or rectangle()\n",
    "# They are returned by passing the Image object to the ImageDraw.Draw() function"
   ]
  }
 ],
 "metadata": {
  "kernelspec": {
   "display_name": "Python 3 (ipykernel)",
   "language": "python",
   "name": "python3"
  },
  "language_info": {
   "codemirror_mode": {
    "name": "ipython",
    "version": 3
   },
   "file_extension": ".py",
   "mimetype": "text/x-python",
   "name": "python",
   "nbconvert_exporter": "python",
   "pygments_lexer": "ipython3",
   "version": "3.9.7"
  }
 },
 "nbformat": 4,
 "nbformat_minor": 5
}
