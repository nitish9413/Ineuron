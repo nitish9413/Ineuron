{
 "cells": [
  {
   "cell_type": "markdown",
   "id": "f36f848f-d0e3-41bf-a24e-6da461023ec4",
   "metadata": {},
   "source": [
    "# 1. Assign the value 7 to the variable guess_me. Then, write the conditional tests (if, else, and elif) to print the string &#39;too low&#39; if guess_me is less than 7, &#39;too high&#39; if greater than 7, and &#39;just right&#39; if equal to 7."
   ]
  },
  {
   "cell_type": "code",
   "execution_count": 3,
   "id": "cabe4957-e035-4fca-9538-032895ad2308",
   "metadata": {},
   "outputs": [
    {
     "name": "stdout",
     "output_type": "stream",
     "text": [
      "just right\n"
     ]
    }
   ],
   "source": [
    "guess_me=7\n",
    "if guess_me<7:\n",
    "    print(\"too low\")\n",
    "elif guess_me>7:\n",
    "    print(\"too high\")\n",
    "else:\n",
    "    print(\"just right\")"
   ]
  },
  {
   "cell_type": "markdown",
   "id": "c88822cc-f30f-42d1-b04b-3598dac321ed",
   "metadata": {},
   "source": [
    "# 2. Assign the value 7 to the variable guess_me and the value 1 to the variable start. Write a while loop that compares start with guess_me. Print too low if start is less than guess me. If start equals guess_me, print &#39;found it!&#39; and exit the loop. If start is greater than guess_me, print &#39;oops&#39; and exit the loop. Increment start at the end of the loop."
   ]
  },
  {
   "cell_type": "code",
   "execution_count": 6,
   "id": "127a8e94-876d-47e3-a3a6-7911be43ea73",
   "metadata": {},
   "outputs": [
    {
     "name": "stdout",
     "output_type": "stream",
     "text": [
      "too low\n",
      "too low\n",
      "too low\n",
      "too low\n",
      "too low\n",
      "too low\n",
      "found it!\n"
     ]
    }
   ],
   "source": [
    "start = 1\n",
    "while(start):\n",
    "    if start<guess_me:\n",
    "        print(\"too low\")\n",
    "    elif start==guess_me:\n",
    "        print('found it!')\n",
    "        break\n",
    "    else:\n",
    "        print('oops')\n",
    "        break\n",
    "    start+=1\n",
    "        "
   ]
  },
  {
   "cell_type": "markdown",
   "id": "103901f5-d1e0-40bf-8a01-f7d3e7b0af59",
   "metadata": {},
   "source": [
    "# 3. Print the following values of the list [3, 2, 1, 0] using a for loop."
   ]
  },
  {
   "cell_type": "code",
   "execution_count": 9,
   "id": "af1c204f-b619-4a1b-9445-941a78ad2f26",
   "metadata": {},
   "outputs": [
    {
     "name": "stdout",
     "output_type": "stream",
     "text": [
      "3\n",
      "2\n",
      "1\n",
      "0\n"
     ]
    }
   ],
   "source": [
    "l=[3, 2, 1, 0]\n",
    "for i in l:\n",
    "    print(i)"
   ]
  },
  {
   "cell_type": "markdown",
   "id": "b8af5dda-5cc9-49b4-9f47-6a92a7e1c5c1",
   "metadata": {},
   "source": [
    "# 4. Use a list comprehension to make a list of the even numbers in range(10)"
   ]
  },
  {
   "cell_type": "code",
   "execution_count": 12,
   "id": "1ec66b4c-0cee-48b6-9380-72f5642c8bea",
   "metadata": {},
   "outputs": [
    {
     "data": {
      "text/plain": [
       "[0, 2, 4, 6, 8]"
      ]
     },
     "execution_count": 12,
     "metadata": {},
     "output_type": "execute_result"
    }
   ],
   "source": [
    "[i for i in range(10) if i%2==0]"
   ]
  },
  {
   "cell_type": "markdown",
   "id": "0581d5b0-b407-4a36-88ce-4012616bd931",
   "metadata": {},
   "source": [
    "# 5. Use a dictionary comprehension to create the dictionary squares. Use range(10) to return the keys, and use the square of each key as its value."
   ]
  },
  {
   "cell_type": "code",
   "execution_count": 20,
   "id": "5d3ce40a-ef25-48a4-943a-84f88e98c73f",
   "metadata": {},
   "outputs": [
    {
     "data": {
      "text/plain": [
       "{0: 0, 1: 1, 2: 4, 3: 9, 4: 16, 5: 25, 6: 36, 7: 49, 8: 64, 9: 81}"
      ]
     },
     "execution_count": 20,
     "metadata": {},
     "output_type": "execute_result"
    }
   ],
   "source": [
    "squares={k:k*k for k in range(10)}\n",
    "squares"
   ]
  },
  {
   "cell_type": "markdown",
   "id": "2a468386-a005-476b-9445-8c456ad9044a",
   "metadata": {},
   "source": [
    "# 6. Construct the set odd from the odd numbers in the range using a set comprehension (10)."
   ]
  },
  {
   "cell_type": "code",
   "execution_count": 24,
   "id": "c89ad2c0-19c8-4bba-af70-cd1bd8883052",
   "metadata": {},
   "outputs": [],
   "source": [
    "odd=set(i for i in range(10) if i%2!=0)"
   ]
  },
  {
   "cell_type": "code",
   "execution_count": 25,
   "id": "c963e281-4a32-46f8-992c-1b12a436f35e",
   "metadata": {},
   "outputs": [
    {
     "data": {
      "text/plain": [
       "{1, 3, 5, 7, 9}"
      ]
     },
     "execution_count": 25,
     "metadata": {},
     "output_type": "execute_result"
    }
   ],
   "source": [
    "odd"
   ]
  },
  {
   "cell_type": "markdown",
   "id": "0aae683f-e89b-40b6-a3fb-1615fb87f589",
   "metadata": {},
   "source": [
    "# 7. Use a generator comprehension to return the string &#39;Got &#39; and a number for the numbers in range(10). Iterate through this by using a for loop."
   ]
  },
  {
   "cell_type": "code",
   "execution_count": 27,
   "id": "7423c24b-7449-488d-945b-f55b609450d6",
   "metadata": {},
   "outputs": [
    {
     "name": "stdout",
     "output_type": "stream",
     "text": [
      "Got 0\n",
      "Got 1\n",
      "Got 2\n",
      "Got 3\n",
      "Got 4\n",
      "Got 5\n",
      "Got 6\n",
      "Got 7\n",
      "Got 8\n",
      "Got 9\n"
     ]
    }
   ],
   "source": [
    "string_generator = ('Got ' + str(num) for num in range(10))\n",
    "for item in string_generator:\n",
    "    print(item)"
   ]
  },
  {
   "cell_type": "markdown",
   "id": "fe89388a-d5fa-4960-9422-91ce04bff624",
   "metadata": {},
   "source": [
    "# 8. Define a function called good that returns the list [&#39;Harry&#39;, &#39;Ron&#39;, &#39;Hermione&#39;]."
   ]
  },
  {
   "cell_type": "code",
   "execution_count": 28,
   "id": "a40c220c-823e-46d7-bde7-44edc2a7d12a",
   "metadata": {},
   "outputs": [],
   "source": [
    "def good():\n",
    "    '''returns list'''\n",
    "    return ['Harry', 'Ron', 'Hermione']"
   ]
  },
  {
   "cell_type": "code",
   "execution_count": 29,
   "id": "aeceecfc-f48a-49e6-8d89-1ddb0dd083ed",
   "metadata": {},
   "outputs": [
    {
     "data": {
      "text/plain": [
       "['Harry', 'Ron', 'Hermione']"
      ]
     },
     "execution_count": 29,
     "metadata": {},
     "output_type": "execute_result"
    }
   ],
   "source": [
    "good()"
   ]
  },
  {
   "cell_type": "markdown",
   "id": "9e9905b9-9297-4bd7-8b1f-633a70a0e7ff",
   "metadata": {},
   "source": [
    "# 9. Define a generator function called get_odds that returns the odd numbers from range(10). Use a for loop to find and print the third value returned."
   ]
  },
  {
   "cell_type": "code",
   "execution_count": 31,
   "id": "c2b70755-83f2-4480-8411-eaac86767556",
   "metadata": {},
   "outputs": [
    {
     "name": "stdout",
     "output_type": "stream",
     "text": [
      "5\n"
     ]
    }
   ],
   "source": [
    "get_odds=(i for i in range(10) if i%2==1)\n",
    "c=0\n",
    "for i in get_odds:\n",
    "    if c==2:\n",
    "        print(i)\n",
    "        break\n",
    "    c+=1"
   ]
  },
  {
   "cell_type": "markdown",
   "id": "a53e7a36-4d50-4f51-abea-79d61aabc464",
   "metadata": {},
   "source": [
    "# 10. Define an exception called OopsException. Raise this exception to see what happens. Then write the code to catch this exception and print &#39;Caught an oops&#39;."
   ]
  },
  {
   "cell_type": "code",
   "execution_count": 1,
   "id": "506a0f7e-65ed-4e8c-95ef-49d7f6307958",
   "metadata": {},
   "outputs": [
    {
     "name": "stdout",
     "output_type": "stream",
     "text": [
      "error\n"
     ]
    }
   ],
   "source": [
    "class OopsException(Exception):\n",
    "    pass\n",
    "a=-1\n",
    "try:\n",
    "    if a<0:\n",
    "        raise OopsException(a)\n",
    "except OopsException as e:\n",
    "    print(\"error\")"
   ]
  },
  {
   "cell_type": "markdown",
   "id": "004bd18b-70c3-4f12-944a-4ee6d4ac4491",
   "metadata": {
    "tags": []
   },
   "source": [
    "# 11. Use zip() to make a dictionary called movies that pairs these lists: titles = [&#39;Creature of Habit&#39;, &#39;Crewel Fate&#39;] and plots = [&#39;A nun turns into a monster&#39;, &#39;A haunted yarn shop&#39;]."
   ]
  },
  {
   "cell_type": "code",
   "execution_count": 5,
   "id": "1878eefd-5569-4ce2-8975-cadb2eb6d552",
   "metadata": {},
   "outputs": [],
   "source": [
    "titles = ['Creature of Habit', 'Crewel Fate']\n",
    "plots = ['A nun turns into a monster', 'A haunted yarn shop']\n",
    "\n",
    "movies={}\n",
    "for t,p in zip(titles,plots):\n",
    "    movies[t]=p"
   ]
  },
  {
   "cell_type": "code",
   "execution_count": 6,
   "id": "7fd45dc7-298b-4e5a-ac0a-df03d8997a34",
   "metadata": {},
   "outputs": [
    {
     "data": {
      "text/plain": [
       "{'Creature of Habit': 'A nun turns into a monster',\n",
       " 'Crewel Fate': 'A haunted yarn shop'}"
      ]
     },
     "execution_count": 6,
     "metadata": {},
     "output_type": "execute_result"
    }
   ],
   "source": [
    "movies"
   ]
  }
 ],
 "metadata": {
  "kernelspec": {
   "display_name": "Python 3 (ipykernel)",
   "language": "python",
   "name": "python3"
  },
  "language_info": {
   "codemirror_mode": {
    "name": "ipython",
    "version": 3
   },
   "file_extension": ".py",
   "mimetype": "text/x-python",
   "name": "python",
   "nbconvert_exporter": "python",
   "pygments_lexer": "ipython3",
   "version": "3.9.7"
  }
 },
 "nbformat": 4,
 "nbformat_minor": 5
}
