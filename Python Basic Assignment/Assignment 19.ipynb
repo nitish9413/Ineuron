{
 "cells": [
  {
   "cell_type": "markdown",
   "id": "9a895cc7-0be3-4b2f-8814-f8790a465ece",
   "metadata": {},
   "source": [
    "# 1. Make a class called Thing with no contents and print it. Then, create an object called example from this class and also print it. Are the printed values the same or different?"
   ]
  },
  {
   "cell_type": "code",
   "execution_count": 4,
   "id": "be69042e-52ff-4a46-90bd-607fd43d4892",
   "metadata": {},
   "outputs": [],
   "source": [
    "class Thing():\n",
    "    pass"
   ]
  },
  {
   "cell_type": "code",
   "execution_count": 5,
   "id": "72906cb6-df43-46eb-afe4-d598bfc9302f",
   "metadata": {},
   "outputs": [
    {
     "data": {
      "text/plain": [
       "<__main__.Thing at 0x1138c509580>"
      ]
     },
     "execution_count": 5,
     "metadata": {},
     "output_type": "execute_result"
    }
   ],
   "source": [
    "Thing()"
   ]
  },
  {
   "cell_type": "code",
   "execution_count": 6,
   "id": "989d9bb3-219e-4618-a150-1a879dc06d99",
   "metadata": {},
   "outputs": [
    {
     "data": {
      "text/plain": [
       "<__main__.Thing at 0x1138bb34d60>"
      ]
     },
     "execution_count": 6,
     "metadata": {},
     "output_type": "execute_result"
    }
   ],
   "source": [
    "example=Thing()\n",
    "example"
   ]
  },
  {
   "cell_type": "code",
   "execution_count": 7,
   "id": "414dcc7a-24c1-4be8-b84b-8cc3b752d419",
   "metadata": {},
   "outputs": [],
   "source": [
    "# no , printed values are not same"
   ]
  },
  {
   "cell_type": "markdown",
   "id": "2cd93456-cbe7-4d32-b371-f00cb284ae28",
   "metadata": {},
   "source": [
    "# 2. Create a new class called Thing2 and add the value &#39;abc&#39; to the letters class attribute. Letters should be printed."
   ]
  },
  {
   "cell_type": "code",
   "execution_count": 12,
   "id": "a6c1a60d-62a6-4faf-887c-1be201d9beff",
   "metadata": {},
   "outputs": [
    {
     "data": {
      "text/plain": [
       "'abc'"
      ]
     },
     "execution_count": 12,
     "metadata": {},
     "output_type": "execute_result"
    }
   ],
   "source": [
    "class thing2:\n",
    "    letters='abc'\n",
    "    \n",
    "thing2.letters"
   ]
  },
  {
   "cell_type": "markdown",
   "id": "d859e90d-3e60-4670-979f-c443002b2284",
   "metadata": {},
   "source": [
    "# 3. Make yet another class called, of course, Thing3. This time, assign the value &#39;xyz&#39; to an instance (object) attribute called letters. Print letters. Do you need to make an object from the class to do this?"
   ]
  },
  {
   "cell_type": "code",
   "execution_count": 17,
   "id": "25e58557-1eee-4802-9db6-8e59b23a4769",
   "metadata": {},
   "outputs": [],
   "source": [
    "class thing3:\n",
    "    def __init__(self,letters):\n",
    "        self.letters = letters\n",
    "    def letters(self):\n",
    "        print(Self.letters)"
   ]
  },
  {
   "cell_type": "code",
   "execution_count": 18,
   "id": "5d56ea71-edad-4396-b6f2-b642098f5b0f",
   "metadata": {},
   "outputs": [
    {
     "data": {
      "text/plain": [
       "'xyz'"
      ]
     },
     "execution_count": 18,
     "metadata": {},
     "output_type": "execute_result"
    }
   ],
   "source": [
    "thing3('xyz').letters"
   ]
  },
  {
   "cell_type": "markdown",
   "id": "7c881400-e3ea-440b-9ab4-f35ec7ccf650",
   "metadata": {},
   "source": [
    "# 4. Create an Element class with the instance attributes name, symbol, and number. Create a class object with the values &#39;Hydrogen,&#39; &#39;H,&#39; and 1. "
   ]
  },
  {
   "cell_type": "code",
   "execution_count": 20,
   "id": "9b43ae64-0f09-424a-9815-79d4aa45b724",
   "metadata": {},
   "outputs": [],
   "source": [
    "class element:\n",
    "    def __init__(self,name,symbol,number):\n",
    "        self.name = name\n",
    "        self.symbol = symbol\n",
    "        self.number = number\n",
    "    def element(self):\n",
    "        print(self.name,self.symbol,self.number)"
   ]
  },
  {
   "cell_type": "code",
   "execution_count": 22,
   "id": "f4b38978-03f6-4b09-b637-c0a0ea9c20a5",
   "metadata": {},
   "outputs": [],
   "source": [
    "h1=element('Hydrogen', 'H', 1)"
   ]
  },
  {
   "cell_type": "code",
   "execution_count": 25,
   "id": "bfff39a6-ca5b-4465-b826-61eb798a2bf3",
   "metadata": {},
   "outputs": [
    {
     "name": "stdout",
     "output_type": "stream",
     "text": [
      "Hydrogen H 1\n"
     ]
    }
   ],
   "source": [
    "h1.element()"
   ]
  },
  {
   "cell_type": "markdown",
   "id": "beebe596-622e-4e5a-9f8a-f04d2f933bac",
   "metadata": {},
   "source": [
    "# 5. Make a dictionary with these keys and values: &#39;name&#39;: &#39;Hydrogen&#39;, &#39;symbol&#39;: &#39;H&#39;, &#39;number&#39;: 1. Then, create an object called hydrogen from class Element using this dictionary."
   ]
  },
  {
   "cell_type": "code",
   "execution_count": 27,
   "id": "6277689d-a4b6-4082-8943-3da2f7a670a2",
   "metadata": {},
   "outputs": [],
   "source": [
    "dict={'name': 'Hydrogen', 'symbol': 'H', 'number': 1}"
   ]
  },
  {
   "cell_type": "code",
   "execution_count": 32,
   "id": "95db50a3-20ff-46c9-9465-bd2a61dc7305",
   "metadata": {},
   "outputs": [
    {
     "name": "stdout",
     "output_type": "stream",
     "text": [
      "Hydrogen H 1\n"
     ]
    }
   ],
   "source": [
    "hydrogen=element(**dict)\n",
    "hydrogen.element()"
   ]
  },
  {
   "cell_type": "markdown",
   "id": "c85091fb-260c-4b1f-8afc-94f305646e57",
   "metadata": {},
   "source": [
    "# 6. For the Element class, define a method called dump() that prints the values of the object’s attributes (name, symbol, and number). Create the hydrogen object from this new definition and use dump() to print its attributes."
   ]
  },
  {
   "cell_type": "code",
   "execution_count": 34,
   "id": "d8c63f3e-0fd8-44f8-86e7-7d8855ce19cf",
   "metadata": {},
   "outputs": [],
   "source": [
    "class element:\n",
    "    def __init__(self,name,symbol,number):\n",
    "        self.name = name\n",
    "        self.symbol = symbol\n",
    "        self.number = number\n",
    "    def dump(self):\n",
    "        print(self.name,self.symbol,self.number)"
   ]
  },
  {
   "cell_type": "code",
   "execution_count": 35,
   "id": "8d8b5fdd-10a2-464f-9631-d08d2b93c39c",
   "metadata": {},
   "outputs": [
    {
     "name": "stdout",
     "output_type": "stream",
     "text": [
      "Hydrogen H 1\n"
     ]
    }
   ],
   "source": [
    "new_obj=element(**dict)\n",
    "new_obj.dump()"
   ]
  },
  {
   "cell_type": "markdown",
   "id": "d1f95537-1fd3-4afb-b671-eaefbeff2a5c",
   "metadata": {},
   "source": [
    "# 7. Call print(hydrogen). In the definition of Element, change the name of method dump to __str__, create a new hydrogen object, and call print(hydrogen) again."
   ]
  },
  {
   "cell_type": "code",
   "execution_count": 39,
   "id": "a89e6962-da95-4fdc-be3c-f917ae5fcdd6",
   "metadata": {},
   "outputs": [],
   "source": [
    "class element:\n",
    "    def __init__(self,name,symbol,number):\n",
    "        self.name = name\n",
    "        self.symbol = symbol\n",
    "        self.number = number\n",
    "    def __str__(self):\n",
    "        return ('name=%s, symbol=%s, number=%s'% (self.name, self.symbol, self.number) )"
   ]
  },
  {
   "cell_type": "code",
   "execution_count": 40,
   "id": "f4d9a095-450f-4f64-97e0-64c0ebaf0ed1",
   "metadata": {},
   "outputs": [
    {
     "name": "stdout",
     "output_type": "stream",
     "text": [
      "name=Hydrogen, symbol=H, number=1\n"
     ]
    }
   ],
   "source": [
    "hydrogen=element(**dict)\n",
    "print(hydrogen)"
   ]
  },
  {
   "cell_type": "markdown",
   "id": "7eca208c-33a2-4e2b-8bf2-8e7661a8f9de",
   "metadata": {},
   "source": [
    "# 8. Modify Element to make the attributes name, symbol, and number private. Define a getter property for each to return its value."
   ]
  },
  {
   "cell_type": "code",
   "execution_count": null,
   "id": "9d69640c-40b1-464b-9d94-72ad1c044d40",
   "metadata": {},
   "outputs": [],
   "source": [
    "class element(): \n",
    "    def __init__(self ,name,symbol,number):\n",
    "        self.__name = name\n",
    "        self.__symbol = symbol\n",
    "        self.__number = number\n",
    "    @property\n",
    "    def name(self):\n",
    "        return (self.__name)\n",
    "    @property\n",
    "    def symbol(self):\n",
    "        return (self.__symbol)\n",
    "    @property\n",
    "    def number(self):\n",
    "        return (self.__number)"
   ]
  },
  {
   "cell_type": "code",
   "execution_count": 43,
   "id": "37418f7e-dd47-40dc-a66f-319fce17b671",
   "metadata": {},
   "outputs": [
    {
     "data": {
      "text/plain": [
       "'Hydrogen'"
      ]
     },
     "execution_count": 43,
     "metadata": {},
     "output_type": "execute_result"
    }
   ],
   "source": [
    "hydrogen = element('Hydrogen','H',1)\n",
    "hydrogen.name"
   ]
  },
  {
   "cell_type": "markdown",
   "id": "7c931a6b-5ce3-48fc-9544-73f14a6d6b09",
   "metadata": {},
   "source": [
    "# 9. Define three classes: Bear, Rabbit, and Octothorpe. For each, define only one method: eats(). This should return &#39;berries&#39; (Bear), &#39;clover&#39; (Rabbit), or &#39;campers&#39; (Octothorpe). Create one object from each and print what it eats."
   ]
  },
  {
   "cell_type": "code",
   "execution_count": 49,
   "id": "57f5439e-8a14-486b-8e4d-05e18b3ba240",
   "metadata": {},
   "outputs": [],
   "source": [
    "class Bear:\n",
    "    def eats(self):\n",
    "        return 'berries'\n",
    "class Rabbit:\n",
    "    def eats(self):\n",
    "        return 'clover'\n",
    "class Octothorpe:\n",
    "    def eats(self):\n",
    "        return 'campers'"
   ]
  },
  {
   "cell_type": "code",
   "execution_count": 50,
   "id": "ea8495ba-977a-4c45-accb-a653192853bd",
   "metadata": {},
   "outputs": [],
   "source": [
    "b=Bear()\n",
    "r=Rabbit()\n",
    "o=Octothorpe()"
   ]
  },
  {
   "cell_type": "code",
   "execution_count": 52,
   "id": "f1ca94f0-52c8-4858-95ba-debb0a4369c8",
   "metadata": {},
   "outputs": [
    {
     "data": {
      "text/plain": [
       "'berries'"
      ]
     },
     "execution_count": 52,
     "metadata": {},
     "output_type": "execute_result"
    }
   ],
   "source": [
    "b.eats()"
   ]
  },
  {
   "cell_type": "code",
   "execution_count": 53,
   "id": "c94bb23c-d72c-4909-9678-db9763ed0abf",
   "metadata": {},
   "outputs": [
    {
     "data": {
      "text/plain": [
       "'clover'"
      ]
     },
     "execution_count": 53,
     "metadata": {},
     "output_type": "execute_result"
    }
   ],
   "source": [
    "r.eats()"
   ]
  },
  {
   "cell_type": "code",
   "execution_count": 54,
   "id": "b878daf4-25e2-4952-a94a-6aa4f451e197",
   "metadata": {},
   "outputs": [
    {
     "data": {
      "text/plain": [
       "'campers'"
      ]
     },
     "execution_count": 54,
     "metadata": {},
     "output_type": "execute_result"
    }
   ],
   "source": [
    "o.eats()"
   ]
  },
  {
   "cell_type": "markdown",
   "id": "69adf17d-a180-4652-b5da-012840ca136c",
   "metadata": {},
   "source": [
    "# 10. Define these classes: Laser, Claw, and SmartPhone. Each has only one method: does(). This returns &#39;disintegrate&#39; (Laser), &#39;crush&#39; (Claw), or &#39;ring&#39; (SmartPhone). Then, define the class Robot that has one instance (object) of each of these. Define a does() method for the Robot that prints what its component objects do."
   ]
  },
  {
   "cell_type": "code",
   "execution_count": 58,
   "id": "8d506052-8046-4680-acf5-2902dd7d82c7",
   "metadata": {},
   "outputs": [],
   "source": [
    "class Laser:\n",
    "    def does(self):\n",
    "        return('disitegrate')\n",
    "class Claw:\n",
    "    def does(self):\n",
    "        return('crush')\n",
    "class SmartPhone:\n",
    "    def does(self):\n",
    "        return('ring')\n",
    "        \n",
    "class Robot:\n",
    "    def __init__(self):\n",
    "        self.laser = Laser()\n",
    "        self.claw = Claw()\n",
    "        self.smartphone = SmartPhone()\n",
    "    def does(self):\n",
    "        return ('Laser is %s, Claw is %s, SmartPhone is %s' % (self.laser.does(),self.claw.does(),self.smartphone.does()))"
   ]
  },
  {
   "cell_type": "code",
   "execution_count": 59,
   "id": "f8f57291-0efb-4f14-a560-fbba45cea86b",
   "metadata": {},
   "outputs": [],
   "source": [
    "robo = Robot()"
   ]
  },
  {
   "cell_type": "code",
   "execution_count": 60,
   "id": "87f73818-ef74-4f20-83cd-222732d704c6",
   "metadata": {},
   "outputs": [
    {
     "data": {
      "text/plain": [
       "'Laser is disitegrate, Claw is crush, SmartPhone is ring'"
      ]
     },
     "execution_count": 60,
     "metadata": {},
     "output_type": "execute_result"
    }
   ],
   "source": [
    "robo.does()"
   ]
  }
 ],
 "metadata": {
  "kernelspec": {
   "display_name": "Python 3 (ipykernel)",
   "language": "python",
   "name": "python3"
  },
  "language_info": {
   "codemirror_mode": {
    "name": "ipython",
    "version": 3
   },
   "file_extension": ".py",
   "mimetype": "text/x-python",
   "name": "python",
   "nbconvert_exporter": "python",
   "pygments_lexer": "ipython3",
   "version": "3.9.7"
  }
 },
 "nbformat": 4,
 "nbformat_minor": 5
}
