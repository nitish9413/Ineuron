{
 "cells": [
  {
   "cell_type": "code",
   "execution_count": null,
   "metadata": {},
   "outputs": [],
   "source": [
    "'''\n",
    "1. Add the current date to the text file today.txt as a string.\n",
    "2. Read the text file today.txt into the string today_string\n",
    "3. Parse the date from today_string.\n",
    "4. List the files in your current directory\n",
    "5. Create a list of all of the files in your parent directory (minimum five files should be available).\n",
    "6. Use multiprocessessing to create three separate processes. Make each one wait a random number of\n",
    "seconds between one and five, print the current time, and then exit.\n",
    "7. Create a date object of your day of birth.\n",
    "8. What day of the week was your day of birth?\n",
    "9. When will you be (or when were you) 10,000 days old?\n",
    "'''"
   ]
  },
  {
   "cell_type": "code",
   "execution_count": 4,
   "metadata": {},
   "outputs": [],
   "source": [
    "# Q1\n",
    "import datetime\n",
    "file = open('today.txt','w')\n",
    "file.write(datetime.datetime.now().strftime(\"%d-%m-%Y\"))\n",
    "file.close()"
   ]
  },
  {
   "cell_type": "code",
   "execution_count": 5,
   "metadata": {},
   "outputs": [
    {
     "name": "stdout",
     "output_type": "stream",
     "text": [
      "27-05-2023\n"
     ]
    }
   ],
   "source": [
    "# Q2\n",
    "file = open('today.txt','r')\n",
    "today_string = file.read()\n",
    "print(today_string)"
   ]
  },
  {
   "cell_type": "code",
   "execution_count": 6,
   "metadata": {},
   "outputs": [
    {
     "name": "stdout",
     "output_type": "stream",
     "text": [
      "2023-05-27 00:00:00\n"
     ]
    }
   ],
   "source": [
    "# Q3\n",
    "from datetime import datetime\n",
    "parsed_data = datetime.strptime(today_string, '%d-%m-%Y')\n",
    "print(parsed_data)"
   ]
  },
  {
   "cell_type": "code",
   "execution_count": 7,
   "metadata": {},
   "outputs": [
    {
     "name": "stdout",
     "output_type": "stream",
     "text": [
      "Assignment 01.ipynb\n",
      "Assignment 02.ipynb\n",
      "Assignment 03.ipynb\n",
      "Assignment 04.ipynb\n",
      "Assignment 05.ipynb\n",
      "Assignment 06.ipynb\n",
      "Assignment 07.ipynb\n",
      "Assignment 08.ipynb\n",
      "Assignment 09.ipynb\n",
      "Assignment 10.ipynb\n",
      "Assignment 11.ipynb\n",
      "Assignment 12.ipynb\n",
      "Assignment 13.ipynb\n",
      "Assignment 14.ipynb\n",
      "Assignment 15.ipynb\n",
      "Assignment 16.ipynb\n",
      "Assignment 17.ipynb\n",
      "Assignment 18.ipynb\n",
      "Assignment 19.ipynb\n",
      "Assignment 20.ipynb\n",
      "Assignment 21.ipynb\n",
      "books.csv\n",
      "books.db\n",
      "test.txt\n",
      "today.txt\n",
      "config\n",
      "description\n",
      "FETCH_HEAD\n",
      "HEAD\n",
      "index\n",
      "packed-refs\n",
      "applypatch-msg.sample\n",
      "commit-msg.sample\n",
      "fsmonitor-watchman.sample\n",
      "post-update.sample\n",
      "pre-applypatch.sample\n",
      "pre-commit.sample\n",
      "pre-merge-commit.sample\n",
      "pre-push.sample\n",
      "pre-rebase.sample\n",
      "pre-receive.sample\n",
      "prepare-commit-msg.sample\n",
      "push-to-checkout.sample\n",
      "update.sample\n",
      "exclude\n",
      "HEAD\n",
      "main\n",
      "HEAD\n",
      "pack-c246adddc875e28b7559ed589979490e97405cbf.idx\n",
      "pack-c246adddc875e28b7559ed589979490e97405cbf.pack\n",
      "main\n",
      "HEAD\n",
      "Assignment 01.ipynb\n",
      "Assignment 02.ipynb\n",
      "Assignment 03.ipynb\n",
      "Assignment 04.ipynb\n",
      "Assignment 05.ipynb\n",
      "Assignment 06.ipynb\n"
     ]
    }
   ],
   "source": [
    "# Q4\n",
    "import os\n",
    "for folders, subfolders, files in os.walk(os.getcwd()):\n",
    "    for file in files:\n",
    "        print(file)"
   ]
  },
  {
   "cell_type": "code",
   "execution_count": 8,
   "metadata": {},
   "outputs": [
    {
     "data": {
      "text/plain": [
       "['.git',\n",
       " 'Assignment 01.ipynb',\n",
       " 'Assignment 02.ipynb',\n",
       " 'Assignment 03.ipynb',\n",
       " 'Assignment 04.ipynb',\n",
       " 'Assignment 05.ipynb',\n",
       " 'Assignment 06.ipynb',\n",
       " 'Assignment 07.ipynb',\n",
       " 'Assignment 08.ipynb',\n",
       " 'Assignment 09.ipynb',\n",
       " 'Assignment 10.ipynb',\n",
       " 'Assignment 11.ipynb',\n",
       " 'Assignment 12.ipynb',\n",
       " 'Assignment 13.ipynb',\n",
       " 'Assignment 14.ipynb',\n",
       " 'Assignment 15.ipynb',\n",
       " 'Assignment 16.ipynb',\n",
       " 'Assignment 17.ipynb',\n",
       " 'Assignment 18.ipynb',\n",
       " 'Assignment 19.ipynb',\n",
       " 'Assignment 20.ipynb',\n",
       " 'Assignment 21.ipynb',\n",
       " 'Basic Programming',\n",
       " 'books.csv',\n",
       " 'books.db',\n",
       " 'test.txt',\n",
       " 'today.txt']"
      ]
     },
     "execution_count": 8,
     "metadata": {},
     "output_type": "execute_result"
    }
   ],
   "source": [
    "# Q5\n",
    "import os \n",
    "os.listdir()"
   ]
  },
  {
   "cell_type": "code",
   "execution_count": 1,
   "metadata": {},
   "outputs": [
    {
     "name": "stdout",
     "output_type": "stream",
     "text": [
      "Process_one_Starttime -> 2023-05-27 17:07:51.211692\n",
      "Process_two_Starttime -> 2023-05-27 17:07:51.211692\n",
      "Process_two_Starttime -> 2023-05-27 17:07:51.221757\n",
      "Process_one_Endtime -> 2023-05-27 17:07:52.218084\n",
      "Process_two_Endtime -> 2023-05-27 17:07:52.234182\n",
      "Process_two_Endtime -> 2023-05-27 17:07:54.225022\n"
     ]
    }
   ],
   "source": [
    "# # Q6\n",
    "# import multiprocessing\n",
    "# import time \n",
    "# import random\n",
    "# import datetime\n",
    "\n",
    "# def processOne():\n",
    "#     print(f'Process_one_Starttime -> {datetime.datetime.now()}')\n",
    "#     time.sleep(random.randint(1,5))\n",
    "#     print(f'Process_one_Endtime -> {datetime.datetime.now()}')\n",
    "    \n",
    "# def processTwo():\n",
    "#     print(f'Process_two_Starttime -> {datetime.datetime.now()}')\n",
    "#     time.sleep(random.randint(1,5))\n",
    "#     print(f'Process_two_Endtime -> {datetime.datetime.now()}')\n",
    "\n",
    "# def processThree():\n",
    "#     print(f'Process_two_Starttime -> {datetime.datetime.now()}')\n",
    "#     time.sleep(random.randint(1,5))\n",
    "#     print(f'Process_two_Endtime -> {datetime.datetime.now()}')\n",
    "    \n",
    "# if __name__ == \"__main__\":    \n",
    "#     p1 = multiprocessing.Process(target=processOne)\n",
    "#     p2 = multiprocessing.Process(target=processTwo)\n",
    "#     p3 = multiprocessing.Process(target=processThree)\n",
    "\n",
    "#     p1.start()\n",
    "#     p2.start()\n",
    "#     p3.start()\n",
    "\n",
    "#     p1.join()\n",
    "#     p2.join()\n",
    "#     p3.join()\n",
    "\n",
    "!python assignment21.py"
   ]
  },
  {
   "cell_type": "code",
   "execution_count": 2,
   "metadata": {},
   "outputs": [
    {
     "name": "stdout",
     "output_type": "stream",
     "text": [
      "1997-04-22 00:00:00 <class 'datetime.datetime'>\n"
     ]
    }
   ],
   "source": [
    "# 7 \n",
    "from datetime import datetime\n",
    "my_dob = datetime.strptime('22/04/1997','%d/%m/%Y')\n",
    "print(my_dob, type(my_dob))"
   ]
  },
  {
   "cell_type": "code",
   "execution_count": 4,
   "metadata": {},
   "outputs": [
    {
     "data": {
      "text/plain": [
       "'Saturday'"
      ]
     },
     "execution_count": 4,
     "metadata": {},
     "output_type": "execute_result"
    }
   ],
   "source": [
    "# 8\n",
    "from datetime import datetime\n",
    "my_dob = datetime(2000,4,22)\n",
    "my_dob.strftime(\"%A\")"
   ]
  },
  {
   "cell_type": "code",
   "execution_count": 5,
   "metadata": {},
   "outputs": [
    {
     "data": {
      "text/plain": [
       "datetime.datetime(1973, 1, 4, 0, 0)"
      ]
     },
     "execution_count": 5,
     "metadata": {},
     "output_type": "execute_result"
    }
   ],
   "source": [
    "from datetime import datetime, timedelta\n",
    "my_dob = datetime.strptime(\"22/05/2000\",'%d/%m/%Y')\n",
    "future_date = my_dob-timedelta(10000)\n",
    "future_date"
   ]
  }
 ],
 "metadata": {
  "kernelspec": {
   "display_name": "dl",
   "language": "python",
   "name": "python3"
  },
  "language_info": {
   "codemirror_mode": {
    "name": "ipython",
    "version": 3
   },
   "file_extension": ".py",
   "mimetype": "text/x-python",
   "name": "python",
   "nbconvert_exporter": "python",
   "pygments_lexer": "ipython3",
   "version": "3.10.9"
  },
  "orig_nbformat": 4
 },
 "nbformat": 4,
 "nbformat_minor": 2
}
